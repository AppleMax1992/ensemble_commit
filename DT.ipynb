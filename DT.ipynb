{
 "cells": [
  {
   "cell_type": "code",
   "execution_count": 2,
   "id": "e1e51fd6-2459-4552-b63b-1da158aa1de7",
   "metadata": {
    "execution": {
     "iopub.execute_input": "2024-10-28T08:36:38.013870Z",
     "iopub.status.busy": "2024-10-28T08:36:38.012918Z",
     "iopub.status.idle": "2024-10-28T08:36:41.833674Z",
     "shell.execute_reply": "2024-10-28T08:36:41.832986Z",
     "shell.execute_reply.started": "2024-10-28T08:36:38.013787Z"
    }
   },
   "outputs": [
    {
     "name": "stderr",
     "output_type": "stream",
     "text": [
      "/tmp/ipykernel_2940/1305836490.py:10: FutureWarning: Downcasting behavior in `replace` is deprecated and will be removed in a future version. To retain the old behavior, explicitly call `result.infer_objects(copy=False)`. To opt-in to the future behavior, set `pd.set_option('future.no_silent_downcasting', True)`\n",
      "  df = df.replace({\"label\": label2id})\n"
     ]
    }
   ],
   "source": [
    "import pandas as pd\n",
    "from sklearn.model_selection import train_test_split\n",
    "from sklearn.feature_extraction.text import TfidfVectorizer\n",
    "from sklearn.tree import DecisionTreeClassifier\n",
    "from sklearn.metrics import classification_report, accuracy_score\n",
    "\n",
    "label2id = {'negative':0,'positive':1}\n",
    "\n",
    "df = pd.read_csv('/root/autodl-tmp/IPCK/dataset/dataset.csv')\n",
    "df = df.replace({\"label\": label2id})\n",
    "df.dropna(inplace=True)"
   ]
  },
  {
   "cell_type": "code",
   "execution_count": 6,
   "id": "f01158bf-d6db-428e-a4e8-7db8a44c85a7",
   "metadata": {
    "execution": {
     "iopub.execute_input": "2024-10-28T08:37:16.310871Z",
     "iopub.status.busy": "2024-10-28T08:37:16.309262Z",
     "iopub.status.idle": "2024-10-28T08:37:16.327771Z",
     "shell.execute_reply": "2024-10-28T08:37:16.326833Z",
     "shell.execute_reply.started": "2024-10-28T08:37:16.310789Z"
    }
   },
   "outputs": [],
   "source": [
    "train, test = train_test_split(df, test_size=0.2, random_state=42)\n",
    "train, val = train_test_split(train, test_size=0.1, random_state=42)"
   ]
  },
  {
   "cell_type": "code",
   "execution_count": 7,
   "id": "66ddf628-40ef-458c-a711-513814332488",
   "metadata": {
    "execution": {
     "iopub.execute_input": "2024-10-28T08:37:16.928102Z",
     "iopub.status.busy": "2024-10-28T08:37:16.927080Z",
     "iopub.status.idle": "2024-10-28T08:38:09.288113Z",
     "shell.execute_reply": "2024-10-28T08:38:09.286659Z",
     "shell.execute_reply.started": "2024-10-28T08:37:16.928019Z"
    }
   },
   "outputs": [
    {
     "name": "stdout",
     "output_type": "stream",
     "text": [
      "Accuracy: 0.7521112767014406\n",
      "Classification Report:\n",
      "               precision    recall  f1-score   support\n",
      "\n",
      "           0     0.8102    0.7969    0.8035      1280\n",
      "           1     0.6552    0.6739    0.6644       733\n",
      "\n",
      "    accuracy                         0.7521      2013\n",
      "   macro avg     0.7327    0.7354    0.7339      2013\n",
      "weighted avg     0.7537    0.7521    0.7528      2013\n",
      "\n"
     ]
    }
   ],
   "source": [
    "# 1. 数据预处理和特征提取\n",
    "vectorizer = TfidfVectorizer()\n",
    "X_train = vectorizer.fit_transform(train['diff'])\n",
    "y_train = train['label']\n",
    "\n",
    "# 3. 训练决策树分类器\n",
    "clf = DecisionTreeClassifier()\n",
    "clf.fit(X_train, y_train)\n",
    "\n",
    "# 4. 评估模型\n",
    "y_pred = clf.predict(vectorizer.transform(test['diff']))\n",
    "print(\"Accuracy:\", accuracy_score(test['label'], y_pred))\n",
    "print(\"Classification Report:\\n\", classification_report(test['label'], y_pred, digits=4))\n",
    "\n",
    "# 可视化决策树（可选）\n",
    "# from sklearn.tree import export_text\n",
    "# print(export_text(clf, feature_names=vectorizer.get_feature_names_out()))"
   ]
  },
  {
   "cell_type": "code",
   "execution_count": null,
   "id": "4e01a124-be92-4b63-a3db-673f225f362c",
   "metadata": {},
   "outputs": [],
   "source": []
  }
 ],
 "metadata": {
  "kernelspec": {
   "display_name": "Python 3 (ipykernel)",
   "language": "python",
   "name": "python3"
  },
  "language_info": {
   "codemirror_mode": {
    "name": "ipython",
    "version": 3
   },
   "file_extension": ".py",
   "mimetype": "text/x-python",
   "name": "python",
   "nbconvert_exporter": "python",
   "pygments_lexer": "ipython3",
   "version": "3.10.8"
  }
 },
 "nbformat": 4,
 "nbformat_minor": 5
}
