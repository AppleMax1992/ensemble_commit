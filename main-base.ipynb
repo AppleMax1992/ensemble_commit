{
 "cells": [
  {
   "cell_type": "code",
   "execution_count": 2,
   "id": "9f82a8cc-7b02-48d7-a783-6e89bccff8b2",
   "metadata": {
    "execution": {
     "iopub.execute_input": "2024-07-21T06:54:04.899249Z",
     "iopub.status.busy": "2024-07-21T06:54:04.897760Z",
     "iopub.status.idle": "2024-07-21T06:54:07.388588Z",
     "shell.execute_reply": "2024-07-21T06:54:07.387475Z",
     "shell.execute_reply.started": "2024-07-21T06:54:04.899166Z"
    }
   },
   "outputs": [],
   "source": [
    "import pandas as pd\n",
    "from sklearn.model_selection import train_test_split\n",
    "import ensemble_model.preprocesser as preprocesser \n",
    "import ensemble_model.ensemble_model_backuo as em \n",
    "from torch.utils.data import Dataset, DataLoader\n",
    "from transformers import BertModel, BertTokenizer, RobertaModel, RobertaTokenizer"
   ]
  },
  {
   "cell_type": "code",
   "execution_count": 3,
   "id": "581b2000-7c82-4109-9761-1f0ea8e3f727",
   "metadata": {
    "execution": {
     "iopub.execute_input": "2024-07-21T06:54:07.390144Z",
     "iopub.status.busy": "2024-07-21T06:54:07.389846Z",
     "iopub.status.idle": "2024-07-21T06:54:10.302634Z",
     "shell.execute_reply": "2024-07-21T06:54:10.301599Z",
     "shell.execute_reply.started": "2024-07-21T06:54:07.390121Z"
    }
   },
   "outputs": [
    {
     "name": "stderr",
     "output_type": "stream",
     "text": [
      "/tmp/ipykernel_1203/2050868030.py:4: FutureWarning: Downcasting behavior in `replace` is deprecated and will be removed in a future version. To retain the old behavior, explicitly call `result.infer_objects(copy=False)`. To opt-in to the future behavior, set `pd.set_option('future.no_silent_downcasting', True)`\n",
      "  df = df.replace({\"label\": label2id})\n"
     ]
    },
    {
     "data": {
      "text/html": [
       "<div>\n",
       "<style scoped>\n",
       "    .dataframe tbody tr th:only-of-type {\n",
       "        vertical-align: middle;\n",
       "    }\n",
       "\n",
       "    .dataframe tbody tr th {\n",
       "        vertical-align: top;\n",
       "    }\n",
       "\n",
       "    .dataframe thead th {\n",
       "        text-align: right;\n",
       "    }\n",
       "</style>\n",
       "<table border=\"1\" class=\"dataframe\">\n",
       "  <thead>\n",
       "    <tr style=\"text-align: right;\">\n",
       "      <th></th>\n",
       "      <th>label</th>\n",
       "      <th>message</th>\n",
       "      <th>diff</th>\n",
       "      <th>command</th>\n",
       "    </tr>\n",
       "  </thead>\n",
       "  <tbody>\n",
       "    <tr>\n",
       "      <th>0</th>\n",
       "      <td>0</td>\n",
       "      <td>Merge pull request #46 from rufferson/saslx-tl...</td>\n",
       "      <td>diff --git a/lib/DJabberd.pm b/lib/DJabberd.pm...</td>\n",
       "      <td>diff --git a/lib/DJabberd.pm b/lib/DJabberd.pm...</td>\n",
       "    </tr>\n",
       "    <tr>\n",
       "      <th>1</th>\n",
       "      <td>1</td>\n",
       "      <td>Fix leaks in kadmin server stubs [CVE-2015-863...</td>\n",
       "      <td>diff --git a/src/kadmin/server/server_stubs.c ...</td>\n",
       "      <td>diff --git a/src/kadmin/server/server_stubs.c ...</td>\n",
       "    </tr>\n",
       "    <tr>\n",
       "      <th>2</th>\n",
       "      <td>1</td>\n",
       "      <td>Validate authorization request on approval\\n\\n...</td>\n",
       "      <td>diff --git a/spring-security-oauth2/src/main/j...</td>\n",
       "      <td>diff --git a/spring-security-oauth2/src/main/j...</td>\n",
       "    </tr>\n",
       "    <tr>\n",
       "      <th>3</th>\n",
       "      <td>1</td>\n",
       "      <td>Release 2.72.4+171110</td>\n",
       "      <td>diff --git a/application/config/version.php b/...</td>\n",
       "      <td>diff --git a/application/config/version.php b/...</td>\n",
       "    </tr>\n",
       "    <tr>\n",
       "      <th>4</th>\n",
       "      <td>0</td>\n",
       "      <td>Fixing compiler warnings.</td>\n",
       "      <td>diff --git a/src/main.c b/src/main.c\\nindex 50...</td>\n",
       "      <td>diff --git a/src/main.c b/src/main.c\\nindex 50...</td>\n",
       "    </tr>\n",
       "    <tr>\n",
       "      <th>...</th>\n",
       "      <td>...</td>\n",
       "      <td>...</td>\n",
       "      <td>...</td>\n",
       "      <td>...</td>\n",
       "    </tr>\n",
       "    <tr>\n",
       "      <th>10107</th>\n",
       "      <td>0</td>\n",
       "      <td>les: remove useless protocol defines (#22115)\\...</td>\n",
       "      <td>diff --git a/les/benchmark.go b/les/benchmark....</td>\n",
       "      <td>diff --git a/les/benchmark.go b/les/benchmark....</td>\n",
       "    </tr>\n",
       "    <tr>\n",
       "      <th>10108</th>\n",
       "      <td>1</td>\n",
       "      <td>Merge pull request #2067 from realm/tg-swift-l...</td>\n",
       "      <td>diff --git a/CHANGELOG.md b/CHANGELOG.md\\ninde...</td>\n",
       "      <td>diff --git a/CHANGELOG.md b/CHANGELOG.md\\ninde...</td>\n",
       "    </tr>\n",
       "    <tr>\n",
       "      <th>10109</th>\n",
       "      <td>0</td>\n",
       "      <td>[fix] 新規アカウント作成ページの翻訳を修正</td>\n",
       "      <td>diff --git a/app/locales/ja_JP/LC_MESSAGES/mes...</td>\n",
       "      <td>diff --git a/app/locales/ja_JP/LC_MESSAGES/mes...</td>\n",
       "    </tr>\n",
       "    <tr>\n",
       "      <th>10110</th>\n",
       "      <td>0</td>\n",
       "      <td>Merge branch 'hotfixes'</td>\n",
       "      <td>diff --git a/CHANGELOG.txt b/CHANGELOG.txt\\nin...</td>\n",
       "      <td>diff --git a/CHANGELOG.txt b/CHANGELOG.txt\\nin...</td>\n",
       "    </tr>\n",
       "    <tr>\n",
       "      <th>10111</th>\n",
       "      <td>1</td>\n",
       "      <td>HTTPCLIENT-1803: Improved handling of malforme...</td>\n",
       "      <td>diff --git a/httpclient/src/main/java/org/apac...</td>\n",
       "      <td>diff --git a/httpclient/src/main/java/org/apac...</td>\n",
       "    </tr>\n",
       "  </tbody>\n",
       "</table>\n",
       "<p>10112 rows × 4 columns</p>\n",
       "</div>"
      ],
      "text/plain": [
       "       label                                            message  \\\n",
       "0          0  Merge pull request #46 from rufferson/saslx-tl...   \n",
       "1          1  Fix leaks in kadmin server stubs [CVE-2015-863...   \n",
       "2          1  Validate authorization request on approval\\n\\n...   \n",
       "3          1                              Release 2.72.4+171110   \n",
       "4          0                          Fixing compiler warnings.   \n",
       "...      ...                                                ...   \n",
       "10107      0  les: remove useless protocol defines (#22115)\\...   \n",
       "10108      1  Merge pull request #2067 from realm/tg-swift-l...   \n",
       "10109      0                           [fix] 新規アカウント作成ページの翻訳を修正   \n",
       "10110      0                            Merge branch 'hotfixes'   \n",
       "10111      1  HTTPCLIENT-1803: Improved handling of malforme...   \n",
       "\n",
       "                                                    diff  \\\n",
       "0      diff --git a/lib/DJabberd.pm b/lib/DJabberd.pm...   \n",
       "1      diff --git a/src/kadmin/server/server_stubs.c ...   \n",
       "2      diff --git a/spring-security-oauth2/src/main/j...   \n",
       "3      diff --git a/application/config/version.php b/...   \n",
       "4      diff --git a/src/main.c b/src/main.c\\nindex 50...   \n",
       "...                                                  ...   \n",
       "10107  diff --git a/les/benchmark.go b/les/benchmark....   \n",
       "10108  diff --git a/CHANGELOG.md b/CHANGELOG.md\\ninde...   \n",
       "10109  diff --git a/app/locales/ja_JP/LC_MESSAGES/mes...   \n",
       "10110  diff --git a/CHANGELOG.txt b/CHANGELOG.txt\\nin...   \n",
       "10111  diff --git a/httpclient/src/main/java/org/apac...   \n",
       "\n",
       "                                                 command  \n",
       "0      diff --git a/lib/DJabberd.pm b/lib/DJabberd.pm...  \n",
       "1      diff --git a/src/kadmin/server/server_stubs.c ...  \n",
       "2      diff --git a/spring-security-oauth2/src/main/j...  \n",
       "3      diff --git a/application/config/version.php b/...  \n",
       "4      diff --git a/src/main.c b/src/main.c\\nindex 50...  \n",
       "...                                                  ...  \n",
       "10107  diff --git a/les/benchmark.go b/les/benchmark....  \n",
       "10108  diff --git a/CHANGELOG.md b/CHANGELOG.md\\ninde...  \n",
       "10109  diff --git a/app/locales/ja_JP/LC_MESSAGES/mes...  \n",
       "10110  diff --git a/CHANGELOG.txt b/CHANGELOG.txt\\nin...  \n",
       "10111  diff --git a/httpclient/src/main/java/org/apac...  \n",
       "\n",
       "[10112 rows x 4 columns]"
      ]
     },
     "execution_count": 3,
     "metadata": {},
     "output_type": "execute_result"
    }
   ],
   "source": [
    "\n",
    "df = pd.read_csv(r'/root/autodl-tmp/CommitFit/dataset/dataset.csv', index_col=0, encoding='utf_8_sig')\n",
    "df.fillna('', inplace=True)\n",
    "label2id={'negative':0,'positive':1}\n",
    "df = df.replace({\"label\": label2id})\n",
    "df\n",
    "df['command'] = df['diff'].apply(lambda x : ' '.join(x.split('@@')[:2]))\n",
    "df\n"
   ]
  },
  {
   "cell_type": "code",
   "execution_count": 5,
   "id": "eb62f12b-82f3-4bdb-b474-567fb3fc4a24",
   "metadata": {
    "execution": {
     "iopub.execute_input": "2024-07-21T06:54:32.203069Z",
     "iopub.status.busy": "2024-07-21T06:54:32.201499Z",
     "iopub.status.idle": "2024-07-21T06:54:32.213741Z",
     "shell.execute_reply": "2024-07-21T06:54:32.212186Z",
     "shell.execute_reply.started": "2024-07-21T06:54:32.202987Z"
    }
   },
   "outputs": [
    {
     "data": {
      "text/plain": [
       "'diff --git a/lib/DJabberd.pm b/lib/DJabberd.pm\\nindex b6b498d..2450158 100644\\n--- a/lib/DJabberd.pm\\n+++ b/lib/DJabberd.pm\\n  -173,6 +173,11 '"
      ]
     },
     "execution_count": 5,
     "metadata": {},
     "output_type": "execute_result"
    }
   ],
   "source": [
    "df['command'][0]"
   ]
  },
  {
   "cell_type": "code",
   "execution_count": null,
   "id": "1b1f99ac-5272-4a83-832c-86f9ca758ede",
   "metadata": {},
   "outputs": [],
   "source": [
    "# 设置数据缺失的情况\n",
    "# 设置随机种子以便结果可重复\n",
    "np.random.seed(42)\n",
    "\n",
    "# 定义缺失值的比例\n",
    "missing_rate = 0.2\n",
    "\n",
    "# 计算每列需要创建缺失值的数量\n",
    "num_missing = int(missing_rate * len(df))\n",
    "\n",
    "# 随机选择行进行缺失\n",
    "for col in ['message', 'code change']:\n",
    "    missing_indices = np.random.choice(df.index, num_missing, replace=False)\n",
    "    \n",
    "    # 选择每个单元格的部分字符来替换，而不是全部替换成NaN\n",
    "    for idx in missing_indices:\n",
    "        if np.random.rand() > 0.5:\n",
    "            # 保留前半部分\n",
    "            df.loc[idx, col] = df.loc[idx, col][:len(df.loc[idx, col])//2] + '...'\n",
    "        else:\n",
    "            # 保留后半部分\n",
    "            df.loc[idx, col] = '...' + df.loc[idx, col][len(df.loc[idx, col])//2:]"
   ]
  },
  {
   "cell_type": "code",
   "execution_count": null,
   "id": "7ff21359-6ff2-4957-b0d1-99df599d7f7e",
   "metadata": {},
   "outputs": [],
   "source": [
    "df_dataset = []\n",
    "for index, row in df.iterrows():\n",
    "  df_dataset.append([row['message'],row['command'],row['label']])"
   ]
  },
  {
   "cell_type": "code",
   "execution_count": 3,
   "id": "7b77e6e8-8d9d-45f3-be04-94a8b7499213",
   "metadata": {
    "execution": {
     "iopub.execute_input": "2024-06-27T09:23:22.120888Z",
     "iopub.status.busy": "2024-06-27T09:23:22.120634Z",
     "iopub.status.idle": "2024-06-27T09:23:25.020646Z",
     "shell.execute_reply": "2024-06-27T09:23:25.019504Z",
     "shell.execute_reply.started": "2024-06-27T09:23:22.120859Z"
    }
   },
   "outputs": [
    {
     "name": "stderr",
     "output_type": "stream",
     "text": [
      "Some weights of the model checkpoint at /root/autodl-tmp/models/bert-base-cased were not used when initializing BertModel: ['cls.predictions.transform.dense.bias', 'cls.predictions.transform.LayerNorm.weight', 'cls.predictions.bias', 'cls.seq_relationship.bias', 'cls.predictions.transform.dense.weight', 'cls.predictions.transform.LayerNorm.bias', 'cls.seq_relationship.weight']\n",
      "- This IS expected if you are initializing BertModel from the checkpoint of a model trained on another task or with another architecture (e.g. initializing a BertForSequenceClassification model from a BertForPreTraining model).\n",
      "- This IS NOT expected if you are initializing BertModel from the checkpoint of a model that you expect to be exactly identical (initializing a BertForSequenceClassification model from a BertForSequenceClassification model).\n"
     ]
    }
   ],
   "source": [
    "# Load BERT and CodeBERT models and tokenizers\n",
    "bert_model = BertModel.from_pretrained('/root/autodl-tmp/models/bert-base-cased')\n",
    "bert_tokenizer = BertTokenizer.from_pretrained('/root/autodl-tmp/models/bert-base-cased')\n",
    "\n",
    "codebert_model = RobertaModel.from_pretrained('/root/autodl-tmp/models/codebert-base')\n",
    "codebert_tokenizer = RobertaTokenizer.from_pretrained('/root/autodl-tmp/models/codebert-base')"
   ]
  },
  {
   "cell_type": "code",
   "execution_count": 4,
   "id": "1549be02-6f6b-41e5-bd04-d3e164061eec",
   "metadata": {
    "execution": {
     "iopub.execute_input": "2024-06-27T09:23:25.022026Z",
     "iopub.status.busy": "2024-06-27T09:23:25.021779Z",
     "iopub.status.idle": "2024-06-27T09:34:56.997146Z",
     "shell.execute_reply": "2024-06-27T09:34:56.995804Z",
     "shell.execute_reply.started": "2024-06-27T09:23:25.021999Z"
    }
   },
   "outputs": [
    {
     "name": "stderr",
     "output_type": "stream",
     "text": [
      "/root/miniconda3/lib/python3.10/site-packages/transformers/optimization.py:411: FutureWarning: This implementation of AdamW is deprecated and will be removed in a future version. Use the PyTorch implementation torch.optim.AdamW instead, or set `no_deprecation_warning=True` to disable this warning\n",
      "  warnings.warn(\n"
     ]
    },
    {
     "name": "stdout",
     "output_type": "stream",
     "text": [
      "=============================train========================\n",
      "Epoch 1/10, Loss: 0.368247739103781\n",
      "=============================eval========================\n",
      "Validation Accuracy: 0.8863074641621355\n",
      "Precision: 0.8805213462991721\n",
      "Recall: 0.8786386707735022\n",
      "F1-Score: 0.8795549052985592\n",
      "Epoch 1/10, Validation Accuracy: 0.8863074641621355\n",
      "当前best acc 0.8863074641621355\n",
      "=============================train========================\n",
      "Epoch 2/10, Loss: 0.2021771462301985\n",
      "=============================eval========================\n",
      "Validation Accuracy: 0.9016312407315867\n",
      "Precision: 0.9039858002764891\n",
      "Recall: 0.8869607970731566\n",
      "F1-Score: 0.8939636142193803\n",
      "Epoch 2/10, Validation Accuracy: 0.9016312407315867\n",
      "当前best acc 0.9016312407315867\n",
      "=============================train========================\n",
      "Epoch 3/10, Loss: 0.11112317853476558\n",
      "=============================eval========================\n",
      "Validation Accuracy: 0.8477508650519031\n",
      "Precision: 0.8420412723449001\n",
      "Recall: 0.860175986580481\n",
      "F1-Score: 0.8444430463681973\n",
      "Epoch 3/10, Validation Accuracy: 0.8477508650519031\n",
      "比best acc差记一次 0\n",
      "=============================train========================\n",
      "Epoch 4/10, Loss: 0.07630122921799067\n",
      "=============================eval========================\n",
      "Validation Accuracy: 0.8942165101334651\n",
      "Precision: 0.8890743684861332\n",
      "Recall: 0.8867547322603502\n",
      "F1-Score: 0.8878779685318018\n",
      "Epoch 4/10, Validation Accuracy: 0.8942165101334651\n",
      "比best acc差记一次 1\n",
      "=============================train========================\n",
      "Epoch 5/10, Loss: 0.05385096278475858\n",
      "=============================eval========================\n",
      "Validation Accuracy: 0.8986653484923381\n",
      "Precision: 0.8960881380211076\n",
      "Recall: 0.8884285569678828\n",
      "F1-Score: 0.891902578735319\n",
      "Epoch 5/10, Validation Accuracy: 0.8986653484923381\n",
      "比best acc差记一次 2\n",
      "Early stopping\n",
      "best acc是 0.9016312407315867\n"
     ]
    }
   ],
   "source": [
    "# Split the dataset\n",
    "# preprocesser = preprocesser.SentencePairDataset(train_data, bert_tokenizer, codebert_tokenizer)\n",
    "train_data, val_data = train_test_split(df_dataset, test_size=0.2, random_state=1)\n",
    "\n",
    "# Create Datasets and DataLoaders\n",
    "train_dataset = preprocesser.SentencePairDataset(train_data, bert_tokenizer, codebert_tokenizer)\n",
    "val_dataset = preprocesser.SentencePairDataset(val_data, bert_tokenizer, codebert_tokenizer)\n",
    "\n",
    "train_loader = DataLoader(train_dataset, batch_size=8, shuffle=True)\n",
    "val_loader = DataLoader(val_dataset, batch_size=8, shuffle=False)\n",
    "\n",
    "\n",
    "\n",
    "\n",
    "# # Initialize the model\n",
    "# model = em.CombinedModel(bert_model, codebert_model, bert_tokenizer, codebert_tokenizer)\n",
    "\n",
    "# # Train the model\n",
    "# model.trainer(train_loader, val_loader,num_epochs=10)\n",
    "\n",
    "\n",
    "\n",
    "base_model1 = em.BaseModel(bert_model,bert_tokenizer)\n",
    "base_model2 = em.BaseModel(codebert_model,codebert_tokenizer)\n",
    "\n",
    "# Create stacking model\n",
    "stacking_model = em.StackingModel(base_model1, base_model2)\n",
    "# Train the model\n",
    "stacking_model.trainer(train_loader, val_loader,num_epochs=10, patience=3)"
   ]
  },
  {
   "cell_type": "code",
   "execution_count": null,
   "id": "0de47b49-8d23-4eca-9690-1cff4771159b",
   "metadata": {},
   "outputs": [],
   "source": []
  },
  {
   "cell_type": "code",
   "execution_count": null,
   "id": "b35729cd-f338-4b5f-93ad-088419a0c2b4",
   "metadata": {},
   "outputs": [],
   "source": []
  },
  {
   "cell_type": "code",
   "execution_count": null,
   "id": "7a50f47a-fce0-430e-bf26-5ba832d414a4",
   "metadata": {},
   "outputs": [],
   "source": []
  },
  {
   "cell_type": "code",
   "execution_count": null,
   "id": "180006a7-36aa-44b0-9431-f978b19c6ae9",
   "metadata": {},
   "outputs": [],
   "source": []
  }
 ],
 "metadata": {
  "kernelspec": {
   "display_name": "Python 3 (ipykernel)",
   "language": "python",
   "name": "python3"
  },
  "language_info": {
   "codemirror_mode": {
    "name": "ipython",
    "version": 3
   },
   "file_extension": ".py",
   "mimetype": "text/x-python",
   "name": "python",
   "nbconvert_exporter": "python",
   "pygments_lexer": "ipython3",
   "version": "3.10.8"
  }
 },
 "nbformat": 4,
 "nbformat_minor": 5
}
