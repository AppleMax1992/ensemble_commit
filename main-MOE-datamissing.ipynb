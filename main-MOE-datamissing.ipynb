{
 "cells": [
  {
   "cell_type": "code",
   "execution_count": 1,
   "id": "9f82a8cc-7b02-48d7-a783-6e89bccff8b2",
   "metadata": {
    "execution": {
     "iopub.execute_input": "2024-07-22T02:58:08.968135Z",
     "iopub.status.busy": "2024-07-22T02:58:08.967147Z",
     "iopub.status.idle": "2024-07-22T02:58:11.652318Z",
     "shell.execute_reply": "2024-07-22T02:58:11.650816Z",
     "shell.execute_reply.started": "2024-07-22T02:58:08.968058Z"
    }
   },
   "outputs": [],
   "source": [
    "import pandas as pd\n",
    "from sklearn.model_selection import train_test_split\n",
    "import ensemble_model.preprocesser as preprocesser \n",
    "import ensemble_model.ensemble_model as em \n",
    "from torch.utils.data import Dataset, DataLoader\n",
    "from transformers import BertModel, BertTokenizer, RobertaModel, RobertaTokenizer\n",
    "import whatthepatch"
   ]
  },
  {
   "cell_type": "code",
   "execution_count": null,
   "id": "666cb7bc-ce61-42cb-b7fa-934b5e5d3580",
   "metadata": {},
   "outputs": [],
   "source": [
    "def diff_parser(text):\n",
    "    diff = [x for x in whatthepatch.parse_patch(text)]\n",
    "    diff = diff[0]\n",
    "    tzu = whatthepatch.apply_diff(diff, lao)\n",
    "    return res"
   ]
  },
  {
   "cell_type": "code",
   "execution_count": 26,
   "id": "581b2000-7c82-4109-9761-1f0ea8e3f727",
   "metadata": {
    "execution": {
     "iopub.execute_input": "2024-07-22T03:23:58.125459Z",
     "iopub.status.busy": "2024-07-22T03:23:58.118380Z",
     "iopub.status.idle": "2024-07-22T03:24:00.796334Z",
     "shell.execute_reply": "2024-07-22T03:24:00.795199Z",
     "shell.execute_reply.started": "2024-07-22T03:23:58.124128Z"
    }
   },
   "outputs": [
    {
     "name": "stderr",
     "output_type": "stream",
     "text": [
      "/tmp/ipykernel_6751/631250284.py:4: FutureWarning: Downcasting behavior in `replace` is deprecated and will be removed in a future version. To retain the old behavior, explicitly call `result.infer_objects(copy=False)`. To opt-in to the future behavior, set `pd.set_option('future.no_silent_downcasting', True)`\n",
      "  df = df.replace({\"label\": label2id})\n"
     ]
    },
    {
     "data": {
      "text/html": [
       "<div>\n",
       "<style scoped>\n",
       "    .dataframe tbody tr th:only-of-type {\n",
       "        vertical-align: middle;\n",
       "    }\n",
       "\n",
       "    .dataframe tbody tr th {\n",
       "        vertical-align: top;\n",
       "    }\n",
       "\n",
       "    .dataframe thead th {\n",
       "        text-align: right;\n",
       "    }\n",
       "</style>\n",
       "<table border=\"1\" class=\"dataframe\">\n",
       "  <thead>\n",
       "    <tr style=\"text-align: right;\">\n",
       "      <th></th>\n",
       "      <th>label</th>\n",
       "      <th>message</th>\n",
       "      <th>diff</th>\n",
       "    </tr>\n",
       "  </thead>\n",
       "  <tbody>\n",
       "    <tr>\n",
       "      <th>0</th>\n",
       "      <td>0</td>\n",
       "      <td>Merge pull request #46 from rufferson/saslx-tl...</td>\n",
       "      <td>diff --git a/lib/DJabberd.pm b/lib/DJabberd.pm...</td>\n",
       "    </tr>\n",
       "    <tr>\n",
       "      <th>1</th>\n",
       "      <td>1</td>\n",
       "      <td>Fix leaks in kadmin server stubs [CVE-2015-863...</td>\n",
       "      <td>diff --git a/src/kadmin/server/server_stubs.c ...</td>\n",
       "    </tr>\n",
       "    <tr>\n",
       "      <th>2</th>\n",
       "      <td>1</td>\n",
       "      <td>Validate authorization request on approval\\n\\n...</td>\n",
       "      <td>diff --git a/spring-security-oauth2/src/main/j...</td>\n",
       "    </tr>\n",
       "    <tr>\n",
       "      <th>3</th>\n",
       "      <td>1</td>\n",
       "      <td>Release 2.72.4+171110</td>\n",
       "      <td>diff --git a/application/config/version.php b/...</td>\n",
       "    </tr>\n",
       "    <tr>\n",
       "      <th>4</th>\n",
       "      <td>0</td>\n",
       "      <td>Fixing compiler warnings.</td>\n",
       "      <td>diff --git a/src/main.c b/src/main.c\\nindex 50...</td>\n",
       "    </tr>\n",
       "    <tr>\n",
       "      <th>...</th>\n",
       "      <td>...</td>\n",
       "      <td>...</td>\n",
       "      <td>...</td>\n",
       "    </tr>\n",
       "    <tr>\n",
       "      <th>10107</th>\n",
       "      <td>0</td>\n",
       "      <td>les: remove useless protocol defines (#22115)\\...</td>\n",
       "      <td>diff --git a/les/benchmark.go b/les/benchmark....</td>\n",
       "    </tr>\n",
       "    <tr>\n",
       "      <th>10108</th>\n",
       "      <td>1</td>\n",
       "      <td>Merge pull request #2067 from realm/tg-swift-l...</td>\n",
       "      <td>diff --git a/CHANGELOG.md b/CHANGELOG.md\\ninde...</td>\n",
       "    </tr>\n",
       "    <tr>\n",
       "      <th>10109</th>\n",
       "      <td>0</td>\n",
       "      <td>[fix] 新規アカウント作成ページの翻訳を修正</td>\n",
       "      <td>diff --git a/app/locales/ja_JP/LC_MESSAGES/mes...</td>\n",
       "    </tr>\n",
       "    <tr>\n",
       "      <th>10110</th>\n",
       "      <td>0</td>\n",
       "      <td>Merge branch 'hotfixes'</td>\n",
       "      <td>diff --git a/CHANGELOG.txt b/CHANGELOG.txt\\nin...</td>\n",
       "    </tr>\n",
       "    <tr>\n",
       "      <th>10111</th>\n",
       "      <td>1</td>\n",
       "      <td>HTTPCLIENT-1803: Improved handling of malforme...</td>\n",
       "      <td>diff --git a/httpclient/src/main/java/org/apac...</td>\n",
       "    </tr>\n",
       "  </tbody>\n",
       "</table>\n",
       "<p>10112 rows × 3 columns</p>\n",
       "</div>"
      ],
      "text/plain": [
       "       label                                            message  \\\n",
       "0          0  Merge pull request #46 from rufferson/saslx-tl...   \n",
       "1          1  Fix leaks in kadmin server stubs [CVE-2015-863...   \n",
       "2          1  Validate authorization request on approval\\n\\n...   \n",
       "3          1                              Release 2.72.4+171110   \n",
       "4          0                          Fixing compiler warnings.   \n",
       "...      ...                                                ...   \n",
       "10107      0  les: remove useless protocol defines (#22115)\\...   \n",
       "10108      1  Merge pull request #2067 from realm/tg-swift-l...   \n",
       "10109      0                           [fix] 新規アカウント作成ページの翻訳を修正   \n",
       "10110      0                            Merge branch 'hotfixes'   \n",
       "10111      1  HTTPCLIENT-1803: Improved handling of malforme...   \n",
       "\n",
       "                                                    diff  \n",
       "0      diff --git a/lib/DJabberd.pm b/lib/DJabberd.pm...  \n",
       "1      diff --git a/src/kadmin/server/server_stubs.c ...  \n",
       "2      diff --git a/spring-security-oauth2/src/main/j...  \n",
       "3      diff --git a/application/config/version.php b/...  \n",
       "4      diff --git a/src/main.c b/src/main.c\\nindex 50...  \n",
       "...                                                  ...  \n",
       "10107  diff --git a/les/benchmark.go b/les/benchmark....  \n",
       "10108  diff --git a/CHANGELOG.md b/CHANGELOG.md\\ninde...  \n",
       "10109  diff --git a/app/locales/ja_JP/LC_MESSAGES/mes...  \n",
       "10110  diff --git a/CHANGELOG.txt b/CHANGELOG.txt\\nin...  \n",
       "10111  diff --git a/httpclient/src/main/java/org/apac...  \n",
       "\n",
       "[10112 rows x 3 columns]"
      ]
     },
     "execution_count": 26,
     "metadata": {},
     "output_type": "execute_result"
    }
   ],
   "source": [
    "\n",
    "df = pd.read_csv(r'/root/autodl-tmp/CommitFit/dataset/dataset.csv', index_col=0, encoding='utf_8_sig')\n",
    "df.fillna('', inplace=True)\n",
    "label2id={'negative':0,'positive':1}\n",
    "df = df.replace({\"label\": label2id})\n",
    "df\n",
    "\n"
   ]
  },
  {
   "cell_type": "code",
   "execution_count": 27,
   "id": "6886486e-9b43-4566-9901-e1ec3854ed5e",
   "metadata": {
    "execution": {
     "iopub.execute_input": "2024-07-22T03:24:00.798075Z",
     "iopub.status.busy": "2024-07-22T03:24:00.797872Z",
     "iopub.status.idle": "2024-07-22T03:24:00.803518Z",
     "shell.execute_reply": "2024-07-22T03:24:00.802387Z",
     "shell.execute_reply.started": "2024-07-22T03:24:00.798055Z"
    }
   },
   "outputs": [],
   "source": [
    "def find_longest_list(lists):\n",
    "    # print(lists)\n",
    "    if not lists:\n",
    "        return None\n",
    "    try:\n",
    "        longest_list = max(lists, key=len)\n",
    "    except:\n",
    "        longest_list = None\n",
    "    return longest_list"
   ]
  },
  {
   "cell_type": "code",
   "execution_count": 28,
   "id": "80c9c118-7478-4795-9848-a5d57f59a714",
   "metadata": {
    "execution": {
     "iopub.execute_input": "2024-07-22T03:24:00.804321Z",
     "iopub.status.busy": "2024-07-22T03:24:00.804160Z",
     "iopub.status.idle": "2024-07-22T03:24:00.809071Z",
     "shell.execute_reply": "2024-07-22T03:24:00.807950Z",
     "shell.execute_reply.started": "2024-07-22T03:24:00.804303Z"
    }
   },
   "outputs": [],
   "source": [
    "def extract_lines(changes):\n",
    "    try:\n",
    "       res = ''.join([x.line for x in changes])\n",
    "    except:\n",
    "       res = None\n",
    "    return res"
   ]
  },
  {
   "cell_type": "code",
   "execution_count": 29,
   "id": "6c5c6c07-a97a-4d9a-903d-8bd5787a37e3",
   "metadata": {
    "execution": {
     "iopub.execute_input": "2024-07-22T03:24:00.810669Z",
     "iopub.status.busy": "2024-07-22T03:24:00.810439Z",
     "iopub.status.idle": "2024-07-22T03:24:22.613721Z",
     "shell.execute_reply": "2024-07-22T03:24:22.612620Z",
     "shell.execute_reply.started": "2024-07-22T03:24:00.810645Z"
    }
   },
   "outputs": [],
   "source": [
    "df['command'] = df['diff'].apply(lambda x : extract_lines(find_longest_list([y.changes for y in whatthepatch.parse_patch(x)])))\n",
    "# extracted_cols = df['diff'].str.extract(r'^diff --git (?P<source>[^\\t\\n]+) (?P<target>[^\\t\\n]+)')\n",
    "# whatthepatch.apply_diff(diff, lao)"
   ]
  },
  {
   "cell_type": "code",
   "execution_count": 30,
   "id": "5466ac7c-fc2b-486f-87c6-820236aaac1f",
   "metadata": {
    "execution": {
     "iopub.execute_input": "2024-07-22T03:24:22.615225Z",
     "iopub.status.busy": "2024-07-22T03:24:22.615012Z",
     "iopub.status.idle": "2024-07-22T03:24:22.619646Z",
     "shell.execute_reply": "2024-07-22T03:24:22.618714Z",
     "shell.execute_reply.started": "2024-07-22T03:24:22.615205Z"
    }
   },
   "outputs": [],
   "source": [
    "# extracted_cols"
   ]
  },
  {
   "cell_type": "code",
   "execution_count": null,
   "id": "fb322be7-12fd-45df-ac4f-fca660998d7e",
   "metadata": {},
   "outputs": [],
   "source": []
  },
  {
   "cell_type": "code",
   "execution_count": 31,
   "id": "c8232999-d60c-4056-8d40-fef3b92ff246",
   "metadata": {
    "execution": {
     "iopub.execute_input": "2024-07-22T03:24:22.620283Z",
     "iopub.status.busy": "2024-07-22T03:24:22.620131Z",
     "iopub.status.idle": "2024-07-22T03:24:22.626920Z",
     "shell.execute_reply": "2024-07-22T03:24:22.626039Z",
     "shell.execute_reply.started": "2024-07-22T03:24:22.620266Z"
    }
   },
   "outputs": [
    {
     "data": {
      "text/plain": [
       "'/* * Copyright 2006-2011 the original author or authors. * Copyright 2006-2018 the original author or authors. *  * Licensed under the Apache License, Version 2.0 (the \"License\"); you may not use this file except in compliance with * the License. You may obtain a copy of the License atimport static org.junit.Assert.assertFalse;import static org.junit.Assert.assertNull;import static org.junit.Assert.assertTrue;import static org.springframework.security.oauth2.provider.endpoint.AuthorizationEndpoint.AUTHORIZATION_REQUEST_ATTR_NAME;import static org.springframework.security.oauth2.provider.endpoint.AuthorizationEndpoint.ORIGINAL_AUTHORIZATION_REQUEST_ATTR_NAME;import java.util.Arrays;import java.util.Collections;import org.junit.Test;import org.springframework.security.authentication.UsernamePasswordAuthenticationToken;import org.springframework.security.core.Authentication;import org.springframework.security.core.authority.AuthorityUtils;import org.springframework.security.core.authority.SimpleGrantedAuthority;import org.springframework.security.oauth2.common.DefaultOAuth2AccessToken;import org.springframework.security.oauth2.common.OAuth2AccessToken;\\t@Test\\tpublic void testAuthorizationCodeWithFragment() throws Exception {\\t\\tendpoint.setAuthorizationCodeServices(new StubAuthorizationCodeServices());\\t\\tmodel.put(\"authorizationRequest\",\\t\\t\\t\\tgetAuthorizationRequest(\"foo\", \"http://anywhere.com#bar\", null, null, Collections.singleton(\"code\")));\\t\\tAuthorizationRequest request = getAuthorizationRequest(\"foo\", \"http://anywhere.com#bar\", null, null, Collections.singleton(\"code\"));\\t\\tmodel.put(AUTHORIZATION_REQUEST_ATTR_NAME, request);\\t\\tmodel.put(ORIGINAL_AUTHORIZATION_REQUEST_ATTR_NAME, endpoint.unmodifiableMap(request));\\t\\tView result = endpoint.approveOrDeny(Collections.singletonMap(OAuth2Utils.USER_OAUTH_APPROVAL, \"true\"), model,\\t\\t\\t\\tsessionStatus, principal);\\t\\tassertEquals(\"http://anywhere.com?code=thecode#bar\", ((RedirectView) result).getUrl());\\t@Test\\tpublic void testAuthorizationCodeWithQueryParams() throws Exception {\\t\\tendpoint.setAuthorizationCodeServices(new StubAuthorizationCodeServices());\\t\\tmodel.put(\\t\\t\\t\\t\"authorizationRequest\",\\t\\t\\t\\tgetAuthorizationRequest(\"foo\", \"http://anywhere.com?foo=bar\", null, null, Collections.singleton(\"code\")));\\t\\tAuthorizationRequest request = getAuthorizationRequest(\"foo\", \"http://anywhere.com?foo=bar\", null, null, Collections.singleton(\"code\"));\\t\\tmodel.put(AUTHORIZATION_REQUEST_ATTR_NAME, request);\\t\\tmodel.put(ORIGINAL_AUTHORIZATION_REQUEST_ATTR_NAME, endpoint.unmodifiableMap(request));\\t\\tView result = endpoint.approveOrDeny(Collections.singletonMap(OAuth2Utils.USER_OAUTH_APPROVAL, \"true\"), model,\\t\\t\\t\\tsessionStatus, principal);\\t\\tassertEquals(\"http://anywhere.com?foo=bar&code=thecode\", ((RedirectView) result).getUrl());\\t@Test\\tpublic void testAuthorizationCodeWithTrickyState() throws Exception {\\t\\tendpoint.setAuthorizationCodeServices(new StubAuthorizationCodeServices());\\t\\tmodel.put(\"authorizationRequest\",\\t\\t\\t\\tgetAuthorizationRequest(\"foo\", \"http://anywhere.com\", \" =?s\", null, Collections.singleton(\"code\")));\\t\\tAuthorizationRequest request = getAuthorizationRequest(\"foo\", \"http://anywhere.com\", \" =?s\", null, Collections.singleton(\"code\"));\\t\\tmodel.put(AUTHORIZATION_REQUEST_ATTR_NAME, request);\\t\\tmodel.put(ORIGINAL_AUTHORIZATION_REQUEST_ATTR_NAME, endpoint.unmodifiableMap(request));\\t\\tView result = endpoint.approveOrDeny(Collections.singletonMap(OAuth2Utils.USER_OAUTH_APPROVAL, \"true\"), model,\\t\\t\\t\\tsessionStatus, principal);\\t\\tassertEquals(\"http://anywhere.com?code=thecode&state=%20%3D?s\", ((RedirectView) result).getUrl());\\t@Test\\tpublic void testAuthorizationCodeWithMultipleQueryParams() throws Exception {\\t\\tendpoint.setAuthorizationCodeServices(new StubAuthorizationCodeServices());\\t\\tmodel.put(\\t\\t\\t\\t\"authorizationRequest\",\\t\\t\\t\\tgetAuthorizationRequest(\"foo\", \"http://anywhere.com?foo=bar&bar=foo\", null, null,\\t\\t\\t\\t\\t\\tCollections.singleton(\"code\")));\\t\\tAuthorizationRequest request = getAuthorizationRequest(\"foo\", \"http://anywhere.com?foo=bar&bar=foo\", null, null,\\t\\t\\t\\tCollections.singleton(\"code\"));\\t\\tmodel.put(AUTHORIZATION_REQUEST_ATTR_NAME, request);\\t\\tmodel.put(ORIGINAL_AUTHORIZATION_REQUEST_ATTR_NAME, endpoint.unmodifiableMap(request));\\t\\tView result = endpoint.approveOrDeny(Collections.singletonMap(OAuth2Utils.USER_OAUTH_APPROVAL, \"true\"), model,\\t\\t\\t\\tsessionStatus, principal);\\t\\tassertEquals(\"http://anywhere.com?foo=bar&bar=foo&code=thecode\", ((RedirectView) result).getUrl());\\t@Test\\tpublic void testAuthorizationCodeWithTrickyQueryParams() throws Exception {\\t\\tendpoint.setAuthorizationCodeServices(new StubAuthorizationCodeServices());\\t\\tmodel.put(\\t\\t\\t\\t\"authorizationRequest\",\\t\\t\\t\\tgetAuthorizationRequest(\"foo\", \"http://anywhere.com?foo=b =&bar=f $\", null, null,\\t\\t\\t\\t\\t\\tCollections.singleton(\"code\")));\\t\\tAuthorizationRequest request = getAuthorizationRequest(\"foo\", \"http://anywhere.com?foo=b =&bar=f $\", null, null,\\t\\t\\t\\tCollections.singleton(\"code\"));\\t\\tmodel.put(AUTHORIZATION_REQUEST_ATTR_NAME, request);\\t\\tmodel.put(ORIGINAL_AUTHORIZATION_REQUEST_ATTR_NAME, endpoint.unmodifiableMap(request));\\t\\tView result = endpoint.approveOrDeny(Collections.singletonMap(OAuth2Utils.USER_OAUTH_APPROVAL, \"true\"), model,\\t\\t\\t\\tsessionStatus, principal);\\t\\tString url = ((RedirectView) result).getUrl();\\t@Test\\tpublic void testAuthorizationCodeWithTrickyEncodedQueryParams() throws Exception {\\t\\tendpoint.setAuthorizationCodeServices(new StubAuthorizationCodeServices());\\t\\tmodel.put(\\t\\t\\t\\t\"authorizationRequest\",\\t\\t\\t\\tgetAuthorizationRequest(\"foo\", \"http://anywhere.com/path?foo=b%20%3D&bar=f%20$\", null, null,\\t\\t\\t\\t\\t\\tCollections.singleton(\"code\")));\\t\\tAuthorizationRequest request = getAuthorizationRequest(\\t\\t\\t\\t\"foo\", \"http://anywhere.com/path?foo=b%20%3D&bar=f%20$\", null, null, Collections.singleton(\"code\"));\\t\\tmodel.put(AUTHORIZATION_REQUEST_ATTR_NAME, request);\\t\\tmodel.put(ORIGINAL_AUTHORIZATION_REQUEST_ATTR_NAME, endpoint.unmodifiableMap(request));\\t\\tView result = endpoint.approveOrDeny(Collections.singletonMap(OAuth2Utils.USER_OAUTH_APPROVAL, \"true\"), model,\\t\\t\\t\\tsessionStatus, principal);\\t\\tassertEquals(\"http://anywhere.com/path?foo=b%20%3D&bar=f%20$&code=thecode\", ((RedirectView) result).getUrl());\\t@Test\\tpublic void testAuthorizationCodeWithMoreTrickyEncodedQueryParams() throws Exception {\\t\\tendpoint.setAuthorizationCodeServices(new StubAuthorizationCodeServices());\\t\\tmodel.put(\\t\\t\\t\\t\"authorizationRequest\",\\t\\t\\t\\tgetAuthorizationRequest(\"foo\", \"http://anywhere?t=a%3Db%26ep%3Dtest%2540test.me\", null, null,\\t\\t\\t\\t\\t\\tCollections.singleton(\"code\")));\\t\\tAuthorizationRequest request = getAuthorizationRequest(\\t\\t\\t\\t\"foo\", \"http://anywhere?t=a%3Db%26ep%3Dtest%2540test.me\", null, null, Collections.singleton(\"code\"));\\t\\tmodel.put(AUTHORIZATION_REQUEST_ATTR_NAME, request);\\t\\tmodel.put(ORIGINAL_AUTHORIZATION_REQUEST_ATTR_NAME, endpoint.unmodifiableMap(request));\\t\\tView result = endpoint.approveOrDeny(Collections.singletonMap(OAuth2Utils.USER_OAUTH_APPROVAL, \"true\"), model,\\t\\t\\t\\tsessionStatus, principal);\\t\\tassertEquals(\"http://anywhere?t=a%3Db%26ep%3Dtest%2540test.me&code=thecode\", ((RedirectView) result).getUrl());\\t\\trequest.setApproved(true);\\t\\tMap<String, String> approvalParameters = new HashMap<String, String>();\\t\\tapprovalParameters.put(\"user_oauth_approval\", \"true\");\\t\\tmodel.put(\"authorizationRequest\", request);\\t\\tmodel.put(AUTHORIZATION_REQUEST_ATTR_NAME, request);\\t\\tmodel.put(ORIGINAL_AUTHORIZATION_REQUEST_ATTR_NAME, endpoint.unmodifiableMap(request));\\t\\tView result = endpoint.approveOrDeny(approvalParameters, model, sessionStatus, principal);\\t\\tassertTrue(\"Wrong view: \" + result, ((RedirectView) result).getUrl().startsWith(\"http://anywhere.com\"));\\t}\\t@Test\\tpublic void testApprovalDenied() throws Exception {\\t\\tmodel.put(\"authorizationRequest\",\\t\\t\\t\\tgetAuthorizationRequest(\"foo\", \"http://anywhere.com\", null, null, Collections.singleton(\"code\")));\\t\\tAuthorizationRequest request = getAuthorizationRequest(\"foo\", \"http://anywhere.com\", null, null, Collections.singleton(\"code\"));\\t\\tmodel.put(AUTHORIZATION_REQUEST_ATTR_NAME, request);\\t\\tmodel.put(ORIGINAL_AUTHORIZATION_REQUEST_ATTR_NAME, endpoint.unmodifiableMap(request));\\t\\tMap<String, String> approvalParameters = new HashMap<String, String>();\\t\\tapprovalParameters.put(\"user_oauth_approval\", \"false\");\\t\\tView result = endpoint.approveOrDeny(approvalParameters, model, sessionStatus, principal);\\t\\t\\t\\t\\t\\t.getRequestParameters(), sessionStatus, principal);\\t\\t// RedirectUri parameter should be null (SECOAUTH-333), however the resolvedRedirectUri not\\t\\tAuthorizationRequest authorizationRequest = (AuthorizationRequest) result.getModelMap().get(\\t\\t\\t\\t\"authorizationRequest\");\\t\\t\\t\\tAUTHORIZATION_REQUEST_ATTR_NAME);\\t\\tassertNull(authorizationRequest.getRequestParameters().get(OAuth2Utils.REDIRECT_URI));\\t\\tassertEquals(\"http://anywhere.com\", authorizationRequest.getRedirectUri());\\t}\\t\\trequest.setApproved(true);\\t\\tMap<String, String> approvalParameters = new HashMap<String, String>();\\t\\tapprovalParameters.put(\"user_oauth_approval\", \"true\");\\t\\tmodel.put(\"authorizationRequest\", request);\\t\\tmodel.put(AUTHORIZATION_REQUEST_ATTR_NAME, request);\\t\\tmodel.put(ORIGINAL_AUTHORIZATION_REQUEST_ATTR_NAME, endpoint.unmodifiableMap(request));\\t\\tendpoint.approveOrDeny(approvalParameters, model, sessionStatus, principal);\\t}\\t@Test(expected = InvalidRequestException.class)\\tpublic void testApproveWithModifiedClientId() throws Exception {\\t\\tAuthorizationRequest authorizationRequest = getAuthorizationRequest(\\t\\t\\t\\t\"foo\", \"http://anywhere.com\", \"state-1234\", \"read\", Collections.singleton(\"code\"));\\t\\tmodel.put(AUTHORIZATION_REQUEST_ATTR_NAME, authorizationRequest);\\t\\tmodel.put(ORIGINAL_AUTHORIZATION_REQUEST_ATTR_NAME, endpoint.unmodifiableMap(authorizationRequest));\\t\\tauthorizationRequest.setClientId(\"bar\");\\t\\t// Modify authorization request\\t\\tMap<String, String> approvalParameters = new HashMap<String, String>();\\t\\tapprovalParameters.put(\"user_oauth_approval\", \"true\");\\t\\tendpoint.approveOrDeny(approvalParameters, model, sessionStatus, principal);\\t}\\t@Test(expected = InvalidRequestException.class)\\tpublic void testApproveWithModifiedState() throws Exception {\\t\\tAuthorizationRequest authorizationRequest = getAuthorizationRequest(\\t\\t\\t\\t\"foo\", \"http://anywhere.com\", \"state-1234\", \"read\", Collections.singleton(\"code\"));\\t\\tmodel.put(AUTHORIZATION_REQUEST_ATTR_NAME, authorizationRequest);\\t\\tmodel.put(ORIGINAL_AUTHORIZATION_REQUEST_ATTR_NAME, endpoint.unmodifiableMap(authorizationRequest));\\t\\tauthorizationRequest.setState(\"state-5678\");\\t\\t// Modify authorization request\\t\\tMap<String, String> approvalParameters = new HashMap<String, String>();\\t\\tapprovalParameters.put(\"user_oauth_approval\", \"true\");\\t\\tendpoint.approveOrDeny(approvalParameters, model, sessionStatus, principal);\\t}\\t@Test(expected = InvalidRequestException.class)\\tpublic void testApproveWithModifiedRedirectUri() throws Exception {\\t\\tAuthorizationRequest authorizationRequest = getAuthorizationRequest(\\t\\t\\t\\t\"foo\", \"http://anywhere.com\", \"state-1234\", \"read\", Collections.singleton(\"code\"));\\t\\tmodel.put(AUTHORIZATION_REQUEST_ATTR_NAME, authorizationRequest);\\t\\tmodel.put(ORIGINAL_AUTHORIZATION_REQUEST_ATTR_NAME, endpoint.unmodifiableMap(authorizationRequest));\\t\\tauthorizationRequest.setRedirectUri(\"http://somewhere.com\");\\t\\t// Modify authorization request\\t\\tMap<String, String> approvalParameters = new HashMap<String, String>();\\t\\tapprovalParameters.put(\"user_oauth_approval\", \"true\");\\t\\tendpoint.approveOrDeny(approvalParameters, model, sessionStatus, principal);\\t}\\t@Test(expected = InvalidRequestException.class)\\tpublic void testApproveWithModifiedResponseTypes() throws Exception {\\t\\tAuthorizationRequest authorizationRequest = getAuthorizationRequest(\\t\\t\\t\\t\"foo\", \"http://anywhere.com\", \"state-1234\", \"read\", Collections.singleton(\"code\"));\\t\\tmodel.put(AUTHORIZATION_REQUEST_ATTR_NAME, authorizationRequest);\\t\\tmodel.put(ORIGINAL_AUTHORIZATION_REQUEST_ATTR_NAME, endpoint.unmodifiableMap(authorizationRequest));\\t\\tauthorizationRequest.setResponseTypes(Collections.singleton(\"implicit\"));\\t\\t// Modify authorization request\\t\\tMap<String, String> approvalParameters = new HashMap<String, String>();\\t\\tapprovalParameters.put(\"user_oauth_approval\", \"true\");\\t\\tendpoint.approveOrDeny(approvalParameters, model, sessionStatus, principal);\\t}\\t@Test(expected = InvalidRequestException.class)\\tpublic void testApproveWithModifiedScope() throws Exception {\\t\\tAuthorizationRequest authorizationRequest = getAuthorizationRequest(\\t\\t\\t\\t\"foo\", \"http://anywhere.com\", \"state-1234\", \"read\", Collections.singleton(\"code\"));\\t\\tmodel.put(AUTHORIZATION_REQUEST_ATTR_NAME, authorizationRequest);\\t\\tmodel.put(ORIGINAL_AUTHORIZATION_REQUEST_ATTR_NAME, endpoint.unmodifiableMap(authorizationRequest));\\t\\tauthorizationRequest.setScope(Arrays.asList(\"read\", \"write\"));\\t\\t// Modify authorization request\\t\\tMap<String, String> approvalParameters = new HashMap<String, String>();\\t\\tapprovalParameters.put(\"user_oauth_approval\", \"true\");\\t\\tendpoint.approveOrDeny(approvalParameters, model, sessionStatus, principal);\\t}\\t@Test(expected = InvalidRequestException.class)\\tpublic void testApproveWithModifiedApproved() throws Exception {\\t\\tAuthorizationRequest authorizationRequest = getAuthorizationRequest(\\t\\t\\t\\t\"foo\", \"http://anywhere.com\", \"state-1234\", \"read\", Collections.singleton(\"code\"));\\t\\tauthorizationRequest.setApproved(false);\\t\\tmodel.put(AUTHORIZATION_REQUEST_ATTR_NAME, authorizationRequest);\\t\\tmodel.put(ORIGINAL_AUTHORIZATION_REQUEST_ATTR_NAME, endpoint.unmodifiableMap(authorizationRequest));\\t\\tauthorizationRequest.setApproved(true);\\t\\t// Modify authorization request\\t\\tMap<String, String> approvalParameters = new HashMap<String, String>();\\t\\tapprovalParameters.put(\"user_oauth_approval\", \"true\");\\t\\tendpoint.approveOrDeny(approvalParameters, model, sessionStatus, principal);\\t}\\t@Test(expected = InvalidRequestException.class)\\tpublic void testApproveWithModifiedResourceIds() throws Exception {\\t\\tAuthorizationRequest authorizationRequest = getAuthorizationRequest(\\t\\t\\t\\t\"foo\", \"http://anywhere.com\", \"state-1234\", \"read\", Collections.singleton(\"code\"));\\t\\tmodel.put(AUTHORIZATION_REQUEST_ATTR_NAME, authorizationRequest);\\t\\tmodel.put(ORIGINAL_AUTHORIZATION_REQUEST_ATTR_NAME, endpoint.unmodifiableMap(authorizationRequest));\\t\\tauthorizationRequest.setResourceIds(Collections.singleton(\"resource-other\"));\\t\\t// Modify authorization request\\t\\tMap<String, String> approvalParameters = new HashMap<String, String>();\\t\\tapprovalParameters.put(\"user_oauth_approval\", \"true\");\\t\\tendpoint.approveOrDeny(approvalParameters, model, sessionStatus, principal);\\t}\\t@Test(expected = InvalidRequestException.class)\\tpublic void testApproveWithModifiedAuthorities() throws Exception {\\t\\tAuthorizationRequest authorizationRequest = getAuthorizationRequest(\\t\\t\\t\\t\"foo\", \"http://anywhere.com\", \"state-1234\", \"read\", Collections.singleton(\"code\"));\\t\\tmodel.put(AUTHORIZATION_REQUEST_ATTR_NAME, authorizationRequest);\\t\\tmodel.put(ORIGINAL_AUTHORIZATION_REQUEST_ATTR_NAME, endpoint.unmodifiableMap(authorizationRequest));\\t\\tauthorizationRequest.setAuthorities(AuthorityUtils.commaSeparatedStringToAuthorityList(\"authority-other\"));\\t\\t// Modify authorization request\\t\\tMap<String, String> approvalParameters = new HashMap<String, String>();\\t\\tapprovalParameters.put(\"user_oauth_approval\", \"true\");\\t\\tendpoint.approveOrDeny(approvalParameters, model, sessionStatus, principal);\\t}\\tprivate class StubAuthorizationCodeServices implements AuthorizationCodeServices {'"
      ]
     },
     "execution_count": 31,
     "metadata": {},
     "output_type": "execute_result"
    }
   ],
   "source": [
    "df['command'][2]"
   ]
  },
  {
   "cell_type": "code",
   "execution_count": 32,
   "id": "8bf29320-0ceb-4ce2-8ed1-4b9a1b5ef839",
   "metadata": {
    "execution": {
     "iopub.execute_input": "2024-07-22T03:24:22.628478Z",
     "iopub.status.busy": "2024-07-22T03:24:22.628266Z",
     "iopub.status.idle": "2024-07-22T03:24:22.632660Z",
     "shell.execute_reply": "2024-07-22T03:24:22.631724Z",
     "shell.execute_reply.started": "2024-07-22T03:24:22.628455Z"
    }
   },
   "outputs": [],
   "source": [
    "# df[['diff_left', 'diff_right']] = extracted_cols.fillna('')"
   ]
  },
  {
   "cell_type": "code",
   "execution_count": 33,
   "id": "c7c81115-aff6-4263-b03e-1f78d5dd2e33",
   "metadata": {
    "execution": {
     "iopub.execute_input": "2024-07-22T03:24:22.633652Z",
     "iopub.status.busy": "2024-07-22T03:24:22.633454Z",
     "iopub.status.idle": "2024-07-22T03:24:22.637782Z",
     "shell.execute_reply": "2024-07-22T03:24:22.636815Z",
     "shell.execute_reply.started": "2024-07-22T03:24:22.633630Z"
    }
   },
   "outputs": [],
   "source": [
    "# df['diff_right'].str[2:]"
   ]
  },
  {
   "cell_type": "code",
   "execution_count": 34,
   "id": "ab7556d6-e1e2-42ab-8bec-6973875ee76b",
   "metadata": {
    "execution": {
     "iopub.execute_input": "2024-07-22T03:24:22.638686Z",
     "iopub.status.busy": "2024-07-22T03:24:22.638488Z",
     "iopub.status.idle": "2024-07-22T03:24:22.643059Z",
     "shell.execute_reply": "2024-07-22T03:24:22.642044Z",
     "shell.execute_reply.started": "2024-07-22T03:24:22.638664Z"
    }
   },
   "outputs": [],
   "source": [
    "# df['command_len'] = df['command'].str.len()"
   ]
  },
  {
   "cell_type": "code",
   "execution_count": 35,
   "id": "63dda2fb-bcad-4bb9-966b-5604dc51836a",
   "metadata": {
    "execution": {
     "iopub.execute_input": "2024-07-22T03:24:22.644215Z",
     "iopub.status.busy": "2024-07-22T03:24:22.643958Z",
     "iopub.status.idle": "2024-07-22T03:24:22.648632Z",
     "shell.execute_reply": "2024-07-22T03:24:22.647601Z",
     "shell.execute_reply.started": "2024-07-22T03:24:22.644185Z"
    }
   },
   "outputs": [],
   "source": [
    "# df['command_len'][5] "
   ]
  },
  {
   "cell_type": "code",
   "execution_count": 44,
   "id": "c9bc9c78-6955-4dc2-8aaf-2532e85a8f3b",
   "metadata": {
    "execution": {
     "iopub.execute_input": "2024-07-22T03:25:00.986412Z",
     "iopub.status.busy": "2024-07-22T03:25:00.985389Z",
     "iopub.status.idle": "2024-07-22T03:25:00.993994Z",
     "shell.execute_reply": "2024-07-22T03:25:00.992227Z",
     "shell.execute_reply.started": "2024-07-22T03:25:00.986330Z"
    }
   },
   "outputs": [],
   "source": [
    "# df['command'][3]"
   ]
  },
  {
   "cell_type": "code",
   "execution_count": 61,
   "id": "9d7303df-370f-445c-8218-0d310346667b",
   "metadata": {
    "execution": {
     "iopub.execute_input": "2024-07-22T03:30:47.772695Z",
     "iopub.status.busy": "2024-07-22T03:30:47.771039Z",
     "iopub.status.idle": "2024-07-22T03:30:48.787012Z",
     "shell.execute_reply": "2024-07-22T03:30:48.785911Z",
     "shell.execute_reply.started": "2024-07-22T03:30:47.772613Z"
    }
   },
   "outputs": [],
   "source": [
    "# 设置数据缺失的情况\n",
    "# 设置随机种子以便结果可重复\n",
    "import numpy as np\n",
    "np.random.seed(42)\n",
    "\n",
    "# 定义缺失值的比例\n",
    "missing_rate = 0.2\n",
    "\n",
    "# 计算每列需要创建缺失值的数量\n",
    "num_missing = int(missing_rate * len(df))\n",
    "\n",
    "# 随机选择行进行缺失\n",
    "for col in ['message', 'command']:\n",
    "    missing_indices = np.random.choice(df.index, num_missing, replace=False)\n",
    "    \n",
    "    # 选择每个单元格的部分字符来替换，而不是全部替换成NaN\n",
    "    for idx in missing_indices:\n",
    "        if np.random.rand() > 0.5:\n",
    "            # 保留前半部分\n",
    "            try:\n",
    "                # print(df.loc[idx, col][:len(df.loc[idx, col])//2] + '...')\n",
    "                df.loc[idx, col] = df.loc[idx, col][:len(df.loc[idx, col])//2] + '...'\n",
    "            except:\n",
    "                continue\n",
    "        else:\n",
    "            # 保留后半部分\n",
    "            try:\n",
    "                # print('...' + df.loc[idx, col][len(df.loc[idx, col])//2:])\n",
    "                df.loc[idx, col] = '...' + df.loc[idx, col][len(df.loc[idx, col])//2:]\n",
    "            except:\n",
    "                continue"
   ]
  },
  {
   "cell_type": "code",
   "execution_count": 62,
   "id": "dd458b30-bee5-456e-a712-daddd4f888e4",
   "metadata": {
    "execution": {
     "iopub.execute_input": "2024-07-22T03:30:58.275804Z",
     "iopub.status.busy": "2024-07-22T03:30:58.274806Z",
     "iopub.status.idle": "2024-07-22T03:31:03.797102Z",
     "shell.execute_reply": "2024-07-22T03:31:03.795061Z",
     "shell.execute_reply.started": "2024-07-22T03:30:58.275725Z"
    }
   },
   "outputs": [],
   "source": [
    "df.to_csv('df_with_datamissing.csv',encoding='utf_8_sig')"
   ]
  },
  {
   "cell_type": "code",
   "execution_count": 70,
   "id": "2dab5d45-6c11-47a7-9dba-7538ba992c65",
   "metadata": {
    "execution": {
     "iopub.execute_input": "2024-07-22T03:33:07.384784Z",
     "iopub.status.busy": "2024-07-22T03:33:07.383498Z",
     "iopub.status.idle": "2024-07-22T03:33:10.041226Z",
     "shell.execute_reply": "2024-07-22T03:33:10.039949Z",
     "shell.execute_reply.started": "2024-07-22T03:33:07.384703Z"
    }
   },
   "outputs": [],
   "source": [
    "df  = pd.read_csv('df_with_datamissing.csv',encoding='utf_8_sig')\n",
    "df.dropna(inplace=True)"
   ]
  },
  {
   "cell_type": "code",
   "execution_count": 71,
   "id": "4d0cf66d-d451-425f-90f3-c8852d8d80e9",
   "metadata": {
    "execution": {
     "iopub.execute_input": "2024-07-22T03:33:11.352602Z",
     "iopub.status.busy": "2024-07-22T03:33:11.351594Z",
     "iopub.status.idle": "2024-07-22T03:33:11.798042Z",
     "shell.execute_reply": "2024-07-22T03:33:11.797001Z",
     "shell.execute_reply.started": "2024-07-22T03:33:11.352520Z"
    }
   },
   "outputs": [],
   "source": [
    "df_dataset = []\n",
    "for index, row in df.iterrows():\n",
    "  # df_dataset.append([row['message'],row['command'],row['label']])\n",
    "    \n",
    "    df_dataset.append([row['message'],row['command'],row['label']])\n",
    "    "
   ]
  },
  {
   "cell_type": "code",
   "execution_count": 72,
   "id": "7b104969-4a01-44b3-8b11-72188d0042e6",
   "metadata": {
    "execution": {
     "iopub.execute_input": "2024-07-22T03:33:11.799191Z",
     "iopub.status.busy": "2024-07-22T03:33:11.798998Z",
     "iopub.status.idle": "2024-07-22T03:33:11.805773Z",
     "shell.execute_reply": "2024-07-22T03:33:11.804891Z",
     "shell.execute_reply.started": "2024-07-22T03:33:11.799172Z"
    }
   },
   "outputs": [
    {
     "data": {
      "text/plain": [
       "['...ests and fixups',\n",
       " 'package DJabberd::Form;\\n# vim: sts=4 ai:\\nuse strict;\\nuse DJabberd::XMLElement;\\nuse overload \\'\"\"\\' => \\\\&as_xml;\\n\\nour @field_types = (\\n    \\'boolean\\',\\n    \\'fixed\\',\\n    \\'hidden\\',\\n    \\'jid-multi\\',\\n    \\'jid-single\\',\\n    \\'list-multi\\',\\n    \\'list-single\\',\\n    \\'text-multi\\',\\n    \\'text-private\\',\\n    \\'text-single\\'\\n);\\nsub new {\\n    my $class = shift;\\n    my $self;\\n    # Try to create from XMLElement tree\\n    if(@_ && $_[0] && ref($_[0]) && UNIVERSAL::isa($_[0],\\'DJabberd::XMLElement\\') && $_[0]->element eq \\'{jabber:x:data}x\\' && $_[0]->children) {\\n\\t$self = from_element($_[0]);\\n    } else {\\n\\t# Or from raw struct: new(\\'type\\',[{var=>\"var\",value=>[\"val\"]},...],[title=>\"title\",][instructions=>\"instructions\"]);\\n\\tmy $type = shift;\\n\\tmy $fields = shift;\\n\\tmy %args = @_;\\n\\tif($type && ref($fields) eq \\'ARRAY\\' && @{$fields}) {\\n\\t    $self = { type => $type, fields => {}, order => []};\\n\\t    foreach my$f(@{$fields}) {\\n\\t\\tif(ref($f) eq \\'HASH\\' && $f->{var} && ref($f->{value}) eq \\'ARRAY\\') {\\n\\t\\t    push(@{$self->{order}},$f->{var});\\n\\t\\t    $self->{fields}->{$f->{var}} = $f;\\n\\t\\t}\\n\\t    }\\n\\t    $self->{title} = $args{title} if($args{title});\\n\\t    $self->{instructions} = $args{instructions} if(ref($args{instructions}) eq \\'ARRAY\\');\\n\\t}\\n    }\\n    croak(\"Form may not be empty\") unless(ref($self) eq \\'HASH\\' && @{$self->{order}});\\n    return bless $self, $class; \\n}\\nsub from_element {\\n    my $x = shift;\\n    my @inst;\\n    my $title;\\n    my %field;\\n    my @order;\\n    foreach my$el($x->children_elements) {\\n\\tif($el->element_name eq \\'title\\') {\\n\\t    $title = $el->innards_as_xml;\\n\\t} elsif($el->element_name eq \\'instructions\\') {\\n\\t    push(@inst,$el->innards_as_xml);\\n\\t} elsif($el->element_name eq \\'field\\') {\\n\\t    my $field = {\\n\\t\\tvar => $el->attr(\\'{}var\\'),\\n\\t\\ttype => $el->attr(\\'{}type\\'),\\n\\t\\tlabel => $el->attr(\\'{}label\\'),\\n\\t\\tvalue => [],\\n\\t\\toption => []\\n\\t    };\\n\\t    if($field->{type} && !grep{$_ eq $field->{type}}@field_types) {\\n\\t\\twarn \"Unsupported field type \".$field->{type};\\n\\t\\treturn undef;\\n\\t    }\\n\\t    foreach my$c($el->children_elements) {\\n\\t\\tif($c->element_name eq \\'desc\\') {\\n\\t\\t    $field->{desc} = $c->innards_as_xml;\\n\\t\\t} elsif($c->element_name eq \\'required\\') {\\n\\t\\t    $field->{required} = 1;\\n\\t\\t} elsif($c->element_name eq \\'value\\') {\\n\\t\\t    push(@{$field->{value}},$c->innards_as_xml);\\n\\t\\t} elsif($c->element_name eq \\'option\\') {\\n\\t\\t    my $option = { value => $c->first_element->innards_as_xml };\\n\\t\\t    $option->{label} = $c->attr(\\'{}label\\') if($c->attr(\\'{}label\\'));\\n\\t\\t    push(@{$field->{option}},$option);\\n\\t\\t}\\n\\t    }\\n\\t    push(@order,$field->{var});\\n\\t    $field{$field->{var}} = $field;\\n\\t}\\n    }\\n    return {type => $x->attr(\\'{}type\\'), title => $title, instructions => \\\\@inst, fields => \\\\%field, order => \\\\@order};\\n}\\n\\nsub field {\\n    my $self = shift;\\n    my $name = shift;\\n    return $self->{fields}->{$name};\\n}\\n\\nsub value {\\n    my $self = shift;\\n    my $name = shift;\\n    return ((exists $self->{fields}->{$name} && $self->{fields}->{$name}->{value}) ? \\n\\t    @{$self->{fields}->{$name}->{value}}\\n\\t    : ());\\n}\\n\\nsub type {\\n    my $self = shift;\\n    return $self->{type};\\n}\\n\\nsub form_type {\\n    my $self = shift;\\n    my $type = \\'\\';\\n    if(exists $self->{fields}->{FORM_TYPE}) {\\n\\tif($self->{fields}->{FORM_TYPE}->{type} && $self->{fields}->{FORM_TYPE}->{type} eq \\'hidden\\') {\\n\\t    $type = $self->{fields}->{FORM_TYPE}->{value}->[0];\\n\\t}\\n    }\\n    return $type;\\n}\\n\\nsub as_xml {\\n    my $self = shift;\\n    my $xml = \\'<x xmlns=\"jabber:x:data\" type=\"\\'.$self->{type}.\\'\">\\';\\n    $xml .= (\\'<title>\\'.$self->{title}.\\'</title>\\') if($self->{title});\\n    foreach my$i(@{$self->{instructions}}) {\\n\\t$xml .= \"<instructions>$i</instructions>\";\\n    }\\n    foreach my$v(@{$self->{order}}) {\\n\\t$xml .= \\'<field var=\"\\'.$self->{fields}->{$v}->{var}.\\'\"\\'\\n\\t\\t.($self->{fields}->{$v}->{type} ? \\' type=\"\\'.$self->{fields}->{$v}->{type}.\\'\"\\':\\'\\')\\n\\t\\t.($self->{fields}->{$v}->{label} ? \\' label=\"\\'.$self->{fields}->{$v}->{label}.\\'\"\\':\\'\\')\\n\\t\\t.\\'>\\';\\n\\t$xml .= (\\'<desc>\\'.$self->{fields}->{$v}->{desc}.\\'</desc>\\') if($self->{fields}->{$v}->{desc});\\n\\t$xml .= (\\'<required/>\\') if($self->{fields}->{$v}->{required});\\n\\tforeach my$k(@{$self->{fields}->{$v}->{value}}) {\\n\\t    $xml .= \"<value>$k</value>\";\\n\\t}\\n\\tforeach my$k(@{$self->{fields}->{$v}->{option}}) {\\n\\t    $xml .= \\'<option\\'.($k->{label} ? \\' label=\"\\'.$k->{label}.\\'\"\\':\\'\\').\\'><value>\\'.$k->{value}.\\'</value></option>\\';\\n\\t}\\n\\t$xml .= \\'</field>\\';\\n    }\\n    return \"$xml</x>\";\\n}\\n\\nsub as_element {\\n    my $self = shift;\\n    my @innards;\\n    push(@innards,DJabberd::XMLElement->new(\\'\\',\\'title\\',{},[$self->{title}])) if($self->{title});\\n    foreach my$i(@{$self->{instructions}}) {\\n\\tpush(@innards,DJabberd::XMLElement->new(\\'\\',\\'instructions\\',{},[$i]));\\n    }\\n    foreach my$v(@{$self->{order}}) {\\n\\tmy $attr = { var => $v };\\n\\t$attr->{type} = $self->{fields}->{$v}->{type} if($self->{fields}->{$v}->{type});\\n\\t$attr->{label} = $self->{fields}->{$v}->{label} if($self->{fields}->{$v}->{label});\\n\\tmy $kids = [];\\n\\tpush(@{$kids},DJabberd::XMLElement->new(\\'\\',\\'desc\\',{},[$self->{fields}->{$v}->{desc}])) if($self->{fields}->{$v}->{desc});\\n\\tpush(@{$kids},DJabberd::XMLElement->new(\\'\\',\\'required\\',{},[])) if($self->{fields}->{$v}->{required});\\n\\tforeach my$k(@{$self->{fields}->{$v}->{value}}) {\\n\\t    push(@{$kids},DJabberd::XMLElement->new(\\'\\',\\'value\\',{},[$k]));\\n\\t}\\n\\tforeach my$k(@{$self->{fields}->{$v}->{option}}) {\\n\\t    my $oa = {};\\n\\t    $oa->{label} = $k->{label} if($k->{label});\\n\\t    push(@{$kids},DJabberd::XMLElement->new(\\'\\',\\'option\\',$oa,[DJabberd::XMLElement->new(\\'\\',\\'value\\',{},[$k->{value}])]));\\n\\t}\\n\\tpush(@innards,DJabberd::XMLElement->new(\\'\\',\\'field\\',$attr,$kids));\\n    }\\n    return DJabberd::XMLElement->new(\\'\\',\\'x\\',{xmlns=>\\'jabber:x:data\\'},\\\\@innards);\\n}\\n1;',\n",
       " 0]"
      ]
     },
     "execution_count": 72,
     "metadata": {},
     "output_type": "execute_result"
    }
   ],
   "source": [
    "df_dataset[0]"
   ]
  },
  {
   "cell_type": "code",
   "execution_count": 73,
   "id": "7b77e6e8-8d9d-45f3-be04-94a8b7499213",
   "metadata": {
    "execution": {
     "iopub.execute_input": "2024-07-22T03:33:12.375708Z",
     "iopub.status.busy": "2024-07-22T03:33:12.374361Z",
     "iopub.status.idle": "2024-07-22T03:33:14.328506Z",
     "shell.execute_reply": "2024-07-22T03:33:14.327490Z",
     "shell.execute_reply.started": "2024-07-22T03:33:12.375631Z"
    }
   },
   "outputs": [
    {
     "name": "stderr",
     "output_type": "stream",
     "text": [
      "Some weights of the model checkpoint at /root/autodl-tmp/models/bert-base-cased were not used when initializing BertModel: ['cls.predictions.transform.dense.weight', 'cls.seq_relationship.bias', 'cls.predictions.bias', 'cls.predictions.transform.LayerNorm.bias', 'cls.seq_relationship.weight', 'cls.predictions.transform.LayerNorm.weight', 'cls.predictions.transform.dense.bias']\n",
      "- This IS expected if you are initializing BertModel from the checkpoint of a model trained on another task or with another architecture (e.g. initializing a BertForSequenceClassification model from a BertForPreTraining model).\n",
      "- This IS NOT expected if you are initializing BertModel from the checkpoint of a model that you expect to be exactly identical (initializing a BertForSequenceClassification model from a BertForSequenceClassification model).\n"
     ]
    }
   ],
   "source": [
    "# Load BERT and CodeBERT models and tokenizers\n",
    "bert_model = BertModel.from_pretrained('/root/autodl-tmp/models/bert-base-cased')\n",
    "bert_tokenizer = BertTokenizer.from_pretrained('/root/autodl-tmp/models/bert-base-cased')\n",
    "\n",
    "codebert_model = RobertaModel.from_pretrained('/root/autodl-tmp/models/codebert-base')\n",
    "codebert_tokenizer = RobertaTokenizer.from_pretrained('/root/autodl-tmp/models/codebert-base')"
   ]
  },
  {
   "cell_type": "code",
   "execution_count": 75,
   "id": "1549be02-6f6b-41e5-bd04-d3e164061eec",
   "metadata": {
    "execution": {
     "iopub.execute_input": "2024-07-22T03:33:52.848592Z",
     "iopub.status.busy": "2024-07-22T03:33:52.846996Z",
     "iopub.status.idle": "2024-07-22T04:03:13.622019Z",
     "shell.execute_reply": "2024-07-22T04:03:13.620771Z",
     "shell.execute_reply.started": "2024-07-22T03:33:52.848510Z"
    }
   },
   "outputs": [
    {
     "name": "stderr",
     "output_type": "stream",
     "text": [
      "/root/miniconda3/lib/python3.10/site-packages/transformers/optimization.py:411: FutureWarning: This implementation of AdamW is deprecated and will be removed in a future version. Use the PyTorch implementation torch.optim.AdamW instead, or set `no_deprecation_warning=True` to disable this warning\n",
      "  warnings.warn(\n"
     ]
    },
    {
     "name": "stdout",
     "output_type": "stream",
     "text": [
      "=============================train========================\n",
      "Epoch 1/10, Loss: 0.41077898269359664\n",
      "=============================eval========================\n",
      "Validation Accuracy: 0.8688693856479092\n",
      "Precision: 0.857266618400613\n",
      "Recall: 0.855358278974488\n",
      "F1-Score: 0.85629388603942\n",
      "Epoch 1/10, Validation Accuracy: 0.8688693856479092\n",
      "当前best acc 0.8688693856479092\n",
      "=============================train========================\n",
      "Epoch 2/10, Loss: 0.22569507594274163\n",
      "=============================eval========================\n",
      "Validation Accuracy: 0.8502839442436758\n",
      "Precision: 0.8386417692558162\n",
      "Recall: 0.8659876763312382\n",
      "F1-Score: 0.8441259978511237\n",
      "Epoch 2/10, Validation Accuracy: 0.8502839442436758\n",
      "比best acc差记一次 0\n",
      "=============================train========================\n",
      "Epoch 3/10, Loss: 0.11327340442867362\n",
      "=============================eval========================\n",
      "Validation Accuracy: 0.8771295818275684\n",
      "Precision: 0.8634760171803619\n",
      "Recall: 0.8719578273241465\n",
      "F1-Score: 0.8673073823339781\n",
      "Epoch 3/10, Validation Accuracy: 0.8771295818275684\n",
      "当前best acc 0.8771295818275684\n",
      "=============================train========================\n",
      "Epoch 4/10, Loss: 0.0654736748435263\n",
      "=============================eval========================\n",
      "Validation Accuracy: 0.8678368611254518\n",
      "Precision: 0.8552758504468696\n",
      "Recall: 0.8562048320527251\n",
      "F1-Score: 0.8557357513918111\n",
      "Epoch 4/10, Validation Accuracy: 0.8678368611254518\n",
      "比best acc差记一次 0\n",
      "=============================train========================\n",
      "Epoch 5/10, Loss: 0.04596271372338472\n",
      "=============================eval========================\n",
      "Validation Accuracy: 0.8817759421786268\n",
      "Precision: 0.870396266605961\n",
      "Recall: 0.8716047570107179\n",
      "F1-Score: 0.8709931947385519\n",
      "Epoch 5/10, Validation Accuracy: 0.8817759421786268\n",
      "当前best acc 0.8817759421786268\n",
      "=============================train========================\n",
      "Epoch 6/10, Loss: 0.034424741096002645\n",
      "=============================eval========================\n",
      "Validation Accuracy: 0.890036138358286\n",
      "Precision: 0.8797251819505094\n",
      "Recall: 0.8799747374112372\n",
      "F1-Score: 0.8798496624656765\n",
      "Epoch 6/10, Validation Accuracy: 0.890036138358286\n",
      "当前best acc 0.890036138358286\n",
      "=============================train========================\n",
      "Epoch 7/10, Loss: 0.023470865280830693\n",
      "=============================eval========================\n",
      "Validation Accuracy: 0.8554465668559629\n",
      "Precision: 0.8416784502262443\n",
      "Recall: 0.866034286273605\n",
      "F1-Score: 0.8483506356098074\n",
      "Epoch 7/10, Validation Accuracy: 0.8554465668559629\n",
      "比best acc差记一次 0\n",
      "=============================train========================\n",
      "Epoch 8/10, Loss: 0.030743117444416185\n",
      "=============================eval========================\n",
      "Validation Accuracy: 0.8802271553949407\n",
      "Precision: 0.8846390801189219\n",
      "Recall: 0.8506547531653976\n",
      "F1-Score: 0.8635600733534934\n",
      "Epoch 8/10, Validation Accuracy: 0.8802271553949407\n",
      "比best acc差记一次 1\n",
      "=============================train========================\n",
      "Epoch 9/10, Loss: 0.02426822637298812\n",
      "=============================eval========================\n",
      "Validation Accuracy: 0.8812596799173981\n",
      "Precision: 0.8687061273461958\n",
      "Recall: 0.8738385384986471\n",
      "F1-Score: 0.8711326190586384\n",
      "Epoch 9/10, Validation Accuracy: 0.8812596799173981\n",
      "比best acc差记一次 2\n",
      "Early stopping\n",
      "best acc是 0.890036138358286\n"
     ]
    }
   ],
   "source": [
    "# Split the dataset\n",
    "# preprocesser = preprocesser.SentencePairDataset(train_data, bert_tokenizer, codebert_tokenizer)\n",
    "train_data, val_data = train_test_split(df_dataset, test_size=0.2, random_state=1)\n",
    "\n",
    "# Create Datasets and DataLoaders\n",
    "train_dataset = preprocesser.SentencePairDataset(train_data, bert_tokenizer, codebert_tokenizer)\n",
    "val_dataset = preprocesser.SentencePairDataset(val_data, bert_tokenizer, codebert_tokenizer)\n",
    "\n",
    "train_loader = DataLoader(train_dataset, batch_size=8, shuffle=True)\n",
    "val_loader = DataLoader(val_dataset, batch_size=8, shuffle=False)\n",
    "\n",
    "\n",
    "\n",
    "\n",
    "# # Initialize the model\n",
    "# model = em.CombinedModel(bert_model, codebert_model, bert_tokenizer, codebert_tokenizer)\n",
    "\n",
    "# # Train the model\n",
    "# model.trainer(train_loader, val_loader,num_epochs=10)\n",
    "# for batch in train_loader:\n",
    "#     print(batch)\n",
    "\n",
    "\n",
    "base_model1 = em.BaseModel(bert_model,bert_tokenizer)\n",
    "base_model2 = em.BaseModel(codebert_model,codebert_tokenizer)\n",
    "\n",
    "# Create stacking model\n",
    "stacking_model = em.StackingMoEModel(base_model1, base_model2)\n",
    "# Train the model\n",
    "stacking_model.trainer(train_loader, val_loader,num_epochs=10, patience=3)"
   ]
  },
  {
   "cell_type": "code",
   "execution_count": null,
   "id": "0de47b49-8d23-4eca-9690-1cff4771159b",
   "metadata": {},
   "outputs": [],
   "source": []
  },
  {
   "cell_type": "code",
   "execution_count": null,
   "id": "b35729cd-f338-4b5f-93ad-088419a0c2b4",
   "metadata": {},
   "outputs": [],
   "source": []
  },
  {
   "cell_type": "code",
   "execution_count": null,
   "id": "99debb54-2bc3-44d4-a77b-c8d244010c42",
   "metadata": {},
   "outputs": [],
   "source": []
  },
  {
   "cell_type": "code",
   "execution_count": null,
   "id": "40c5a517-2192-411a-8df5-55adce5a2156",
   "metadata": {},
   "outputs": [],
   "source": []
  }
 ],
 "metadata": {
  "kernelspec": {
   "display_name": "Python 3 (ipykernel)",
   "language": "python",
   "name": "python3"
  },
  "language_info": {
   "codemirror_mode": {
    "name": "ipython",
    "version": 3
   },
   "file_extension": ".py",
   "mimetype": "text/x-python",
   "name": "python",
   "nbconvert_exporter": "python",
   "pygments_lexer": "ipython3",
   "version": "3.10.8"
  }
 },
 "nbformat": 4,
 "nbformat_minor": 5
}
