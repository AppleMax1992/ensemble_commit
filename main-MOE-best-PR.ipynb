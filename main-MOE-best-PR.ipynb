{
 "cells": [
  {
   "cell_type": "code",
   "execution_count": 1,
   "id": "9f82a8cc-7b02-48d7-a783-6e89bccff8b2",
   "metadata": {
    "execution": {
     "iopub.execute_input": "2024-07-27T11:43:52.670047Z",
     "iopub.status.busy": "2024-07-27T11:43:52.669149Z",
     "iopub.status.idle": "2024-07-27T11:43:55.423468Z",
     "shell.execute_reply": "2024-07-27T11:43:55.422467Z",
     "shell.execute_reply.started": "2024-07-27T11:43:52.669970Z"
    }
   },
   "outputs": [],
   "source": [
    "import pandas as pd\n",
    "from sklearn.model_selection import train_test_split\n",
    "import ensemble_model.preprocesser as preprocesser \n",
    "import ensemble_model.ensemble_model as em \n",
    "from torch.utils.data import Dataset, DataLoader\n",
    "from transformers import BertModel, BertTokenizer, RobertaModel, RobertaTokenizer\n",
    "import whatthepatch"
   ]
  },
  {
   "cell_type": "code",
   "execution_count": 2,
   "id": "666cb7bc-ce61-42cb-b7fa-934b5e5d3580",
   "metadata": {
    "execution": {
     "iopub.execute_input": "2024-07-27T11:43:55.425247Z",
     "iopub.status.busy": "2024-07-27T11:43:55.424951Z",
     "iopub.status.idle": "2024-07-27T11:43:55.430051Z",
     "shell.execute_reply": "2024-07-27T11:43:55.429122Z",
     "shell.execute_reply.started": "2024-07-27T11:43:55.425227Z"
    }
   },
   "outputs": [],
   "source": [
    "def diff_parser(text):\n",
    "    diff = [x for x in whatthepatch.parse_patch(text)]\n",
    "    diff = diff[0]\n",
    "    tzu = whatthepatch.apply_diff(diff, lao)\n",
    "    return res"
   ]
  },
  {
   "cell_type": "code",
   "execution_count": 3,
   "id": "581b2000-7c82-4109-9761-1f0ea8e3f727",
   "metadata": {
    "execution": {
     "iopub.execute_input": "2024-07-27T11:43:55.430715Z",
     "iopub.status.busy": "2024-07-27T11:43:55.430557Z",
     "iopub.status.idle": "2024-07-27T11:43:58.111309Z",
     "shell.execute_reply": "2024-07-27T11:43:58.110293Z",
     "shell.execute_reply.started": "2024-07-27T11:43:55.430697Z"
    }
   },
   "outputs": [
    {
     "name": "stderr",
     "output_type": "stream",
     "text": [
      "/tmp/ipykernel_5133/1745998878.py:4: FutureWarning: Downcasting behavior in `replace` is deprecated and will be removed in a future version. To retain the old behavior, explicitly call `result.infer_objects(copy=False)`. To opt-in to the future behavior, set `pd.set_option('future.no_silent_downcasting', True)`\n",
      "  df = df.replace({\"label\": label2id})\n"
     ]
    },
    {
     "data": {
      "text/html": [
       "<div>\n",
       "<style scoped>\n",
       "    .dataframe tbody tr th:only-of-type {\n",
       "        vertical-align: middle;\n",
       "    }\n",
       "\n",
       "    .dataframe tbody tr th {\n",
       "        vertical-align: top;\n",
       "    }\n",
       "\n",
       "    .dataframe thead th {\n",
       "        text-align: right;\n",
       "    }\n",
       "</style>\n",
       "<table border=\"1\" class=\"dataframe\">\n",
       "  <thead>\n",
       "    <tr style=\"text-align: right;\">\n",
       "      <th></th>\n",
       "      <th>label</th>\n",
       "      <th>message</th>\n",
       "      <th>diff</th>\n",
       "    </tr>\n",
       "  </thead>\n",
       "  <tbody>\n",
       "    <tr>\n",
       "      <th>0</th>\n",
       "      <td>0</td>\n",
       "      <td>Merge pull request #46 from rufferson/saslx-tl...</td>\n",
       "      <td>diff --git a/lib/DJabberd.pm b/lib/DJabberd.pm...</td>\n",
       "    </tr>\n",
       "    <tr>\n",
       "      <th>1</th>\n",
       "      <td>1</td>\n",
       "      <td>Fix leaks in kadmin server stubs [CVE-2015-863...</td>\n",
       "      <td>diff --git a/src/kadmin/server/server_stubs.c ...</td>\n",
       "    </tr>\n",
       "    <tr>\n",
       "      <th>2</th>\n",
       "      <td>1</td>\n",
       "      <td>Validate authorization request on approval\\n\\n...</td>\n",
       "      <td>diff --git a/spring-security-oauth2/src/main/j...</td>\n",
       "    </tr>\n",
       "    <tr>\n",
       "      <th>3</th>\n",
       "      <td>1</td>\n",
       "      <td>Release 2.72.4+171110</td>\n",
       "      <td>diff --git a/application/config/version.php b/...</td>\n",
       "    </tr>\n",
       "    <tr>\n",
       "      <th>4</th>\n",
       "      <td>0</td>\n",
       "      <td>Fixing compiler warnings.</td>\n",
       "      <td>diff --git a/src/main.c b/src/main.c\\nindex 50...</td>\n",
       "    </tr>\n",
       "    <tr>\n",
       "      <th>...</th>\n",
       "      <td>...</td>\n",
       "      <td>...</td>\n",
       "      <td>...</td>\n",
       "    </tr>\n",
       "    <tr>\n",
       "      <th>10107</th>\n",
       "      <td>0</td>\n",
       "      <td>les: remove useless protocol defines (#22115)\\...</td>\n",
       "      <td>diff --git a/les/benchmark.go b/les/benchmark....</td>\n",
       "    </tr>\n",
       "    <tr>\n",
       "      <th>10108</th>\n",
       "      <td>1</td>\n",
       "      <td>Merge pull request #2067 from realm/tg-swift-l...</td>\n",
       "      <td>diff --git a/CHANGELOG.md b/CHANGELOG.md\\ninde...</td>\n",
       "    </tr>\n",
       "    <tr>\n",
       "      <th>10109</th>\n",
       "      <td>0</td>\n",
       "      <td>[fix] 新規アカウント作成ページの翻訳を修正</td>\n",
       "      <td>diff --git a/app/locales/ja_JP/LC_MESSAGES/mes...</td>\n",
       "    </tr>\n",
       "    <tr>\n",
       "      <th>10110</th>\n",
       "      <td>0</td>\n",
       "      <td>Merge branch 'hotfixes'</td>\n",
       "      <td>diff --git a/CHANGELOG.txt b/CHANGELOG.txt\\nin...</td>\n",
       "    </tr>\n",
       "    <tr>\n",
       "      <th>10111</th>\n",
       "      <td>1</td>\n",
       "      <td>HTTPCLIENT-1803: Improved handling of malforme...</td>\n",
       "      <td>diff --git a/httpclient/src/main/java/org/apac...</td>\n",
       "    </tr>\n",
       "  </tbody>\n",
       "</table>\n",
       "<p>10112 rows × 3 columns</p>\n",
       "</div>"
      ],
      "text/plain": [
       "       label                                            message  \\\n",
       "0          0  Merge pull request #46 from rufferson/saslx-tl...   \n",
       "1          1  Fix leaks in kadmin server stubs [CVE-2015-863...   \n",
       "2          1  Validate authorization request on approval\\n\\n...   \n",
       "3          1                              Release 2.72.4+171110   \n",
       "4          0                          Fixing compiler warnings.   \n",
       "...      ...                                                ...   \n",
       "10107      0  les: remove useless protocol defines (#22115)\\...   \n",
       "10108      1  Merge pull request #2067 from realm/tg-swift-l...   \n",
       "10109      0                           [fix] 新規アカウント作成ページの翻訳を修正   \n",
       "10110      0                            Merge branch 'hotfixes'   \n",
       "10111      1  HTTPCLIENT-1803: Improved handling of malforme...   \n",
       "\n",
       "                                                    diff  \n",
       "0      diff --git a/lib/DJabberd.pm b/lib/DJabberd.pm...  \n",
       "1      diff --git a/src/kadmin/server/server_stubs.c ...  \n",
       "2      diff --git a/spring-security-oauth2/src/main/j...  \n",
       "3      diff --git a/application/config/version.php b/...  \n",
       "4      diff --git a/src/main.c b/src/main.c\\nindex 50...  \n",
       "...                                                  ...  \n",
       "10107  diff --git a/les/benchmark.go b/les/benchmark....  \n",
       "10108  diff --git a/CHANGELOG.md b/CHANGELOG.md\\ninde...  \n",
       "10109  diff --git a/app/locales/ja_JP/LC_MESSAGES/mes...  \n",
       "10110  diff --git a/CHANGELOG.txt b/CHANGELOG.txt\\nin...  \n",
       "10111  diff --git a/httpclient/src/main/java/org/apac...  \n",
       "\n",
       "[10112 rows x 3 columns]"
      ]
     },
     "execution_count": 3,
     "metadata": {},
     "output_type": "execute_result"
    }
   ],
   "source": [
    "\n",
    "df = pd.read_csv(r'/root/autodl-tmp/ensemble-commit/dataset/dataset.csv', index_col=0, encoding='utf_8_sig')\n",
    "df.fillna('', inplace=True)\n",
    "label2id={'negative':0,'positive':1}\n",
    "df = df.replace({\"label\": label2id})\n",
    "df\n",
    "\n"
   ]
  },
  {
   "cell_type": "code",
   "execution_count": 4,
   "id": "6886486e-9b43-4566-9901-e1ec3854ed5e",
   "metadata": {
    "execution": {
     "iopub.execute_input": "2024-07-27T11:43:58.112510Z",
     "iopub.status.busy": "2024-07-27T11:43:58.112324Z",
     "iopub.status.idle": "2024-07-27T11:43:58.117703Z",
     "shell.execute_reply": "2024-07-27T11:43:58.116562Z",
     "shell.execute_reply.started": "2024-07-27T11:43:58.112489Z"
    }
   },
   "outputs": [],
   "source": [
    "def find_longest_list(lists):\n",
    "    # print(lists)\n",
    "    if not lists:\n",
    "        return None\n",
    "    try:\n",
    "        longest_list = max(lists, key=len)\n",
    "    except:\n",
    "        longest_list = None\n",
    "    return longest_list"
   ]
  },
  {
   "cell_type": "code",
   "execution_count": 5,
   "id": "80c9c118-7478-4795-9848-a5d57f59a714",
   "metadata": {
    "execution": {
     "iopub.execute_input": "2024-07-27T11:43:58.118496Z",
     "iopub.status.busy": "2024-07-27T11:43:58.118338Z",
     "iopub.status.idle": "2024-07-27T11:43:58.123350Z",
     "shell.execute_reply": "2024-07-27T11:43:58.122366Z",
     "shell.execute_reply.started": "2024-07-27T11:43:58.118478Z"
    }
   },
   "outputs": [],
   "source": [
    "def extract_lines(changes):\n",
    "    try:\n",
    "       res = ''.join([x.line for x in changes])\n",
    "    except:\n",
    "       res = None\n",
    "    return res"
   ]
  },
  {
   "cell_type": "code",
   "execution_count": 6,
   "id": "6c5c6c07-a97a-4d9a-903d-8bd5787a37e3",
   "metadata": {
    "execution": {
     "iopub.execute_input": "2024-07-27T11:43:58.124138Z",
     "iopub.status.busy": "2024-07-27T11:43:58.123936Z",
     "iopub.status.idle": "2024-07-27T11:44:19.441174Z",
     "shell.execute_reply": "2024-07-27T11:44:19.440091Z",
     "shell.execute_reply.started": "2024-07-27T11:43:58.124115Z"
    }
   },
   "outputs": [],
   "source": [
    "df['command'] = df['diff'].apply(lambda x : extract_lines(find_longest_list([y.changes for y in whatthepatch.parse_patch(x)])))\n",
    "# extracted_cols = df['diff'].str.extract(r'^diff --git (?P<source>[^\\t\\n]+) (?P<target>[^\\t\\n]+)')\n",
    "# whatthepatch.apply_diff(diff, lao)"
   ]
  },
  {
   "cell_type": "code",
   "execution_count": 7,
   "id": "5466ac7c-fc2b-486f-87c6-820236aaac1f",
   "metadata": {
    "execution": {
     "iopub.execute_input": "2024-07-27T11:44:19.443576Z",
     "iopub.status.busy": "2024-07-27T11:44:19.443373Z",
     "iopub.status.idle": "2024-07-27T11:44:19.448117Z",
     "shell.execute_reply": "2024-07-27T11:44:19.447020Z",
     "shell.execute_reply.started": "2024-07-27T11:44:19.443557Z"
    }
   },
   "outputs": [],
   "source": [
    "# extracted_cols"
   ]
  },
  {
   "cell_type": "code",
   "execution_count": null,
   "id": "fb322be7-12fd-45df-ac4f-fca660998d7e",
   "metadata": {},
   "outputs": [],
   "source": []
  },
  {
   "cell_type": "code",
   "execution_count": 8,
   "id": "c8232999-d60c-4056-8d40-fef3b92ff246",
   "metadata": {
    "execution": {
     "iopub.execute_input": "2024-07-27T11:44:19.448933Z",
     "iopub.status.busy": "2024-07-27T11:44:19.448774Z",
     "iopub.status.idle": "2024-07-27T11:44:19.453037Z",
     "shell.execute_reply": "2024-07-27T11:44:19.451985Z",
     "shell.execute_reply.started": "2024-07-27T11:44:19.448915Z"
    }
   },
   "outputs": [],
   "source": [
    "# df['command'][2]"
   ]
  },
  {
   "cell_type": "code",
   "execution_count": 9,
   "id": "8bf29320-0ceb-4ce2-8ed1-4b9a1b5ef839",
   "metadata": {
    "execution": {
     "iopub.execute_input": "2024-07-27T11:44:19.453731Z",
     "iopub.status.busy": "2024-07-27T11:44:19.453555Z",
     "iopub.status.idle": "2024-07-27T11:44:19.457945Z",
     "shell.execute_reply": "2024-07-27T11:44:19.456860Z",
     "shell.execute_reply.started": "2024-07-27T11:44:19.453710Z"
    }
   },
   "outputs": [],
   "source": [
    "# df[['diff_left', 'diff_right']] = extracted_cols.fillna('')"
   ]
  },
  {
   "cell_type": "code",
   "execution_count": 10,
   "id": "c7c81115-aff6-4263-b03e-1f78d5dd2e33",
   "metadata": {
    "execution": {
     "iopub.execute_input": "2024-07-27T11:44:19.458642Z",
     "iopub.status.busy": "2024-07-27T11:44:19.458463Z",
     "iopub.status.idle": "2024-07-27T11:44:19.462728Z",
     "shell.execute_reply": "2024-07-27T11:44:19.461727Z",
     "shell.execute_reply.started": "2024-07-27T11:44:19.458622Z"
    }
   },
   "outputs": [],
   "source": [
    "# df['diff_right'].str[2:]"
   ]
  },
  {
   "cell_type": "code",
   "execution_count": 11,
   "id": "ab7556d6-e1e2-42ab-8bec-6973875ee76b",
   "metadata": {
    "execution": {
     "iopub.execute_input": "2024-07-27T11:44:19.463837Z",
     "iopub.status.busy": "2024-07-27T11:44:19.463606Z",
     "iopub.status.idle": "2024-07-27T11:44:19.468002Z",
     "shell.execute_reply": "2024-07-27T11:44:19.466987Z",
     "shell.execute_reply.started": "2024-07-27T11:44:19.463810Z"
    }
   },
   "outputs": [],
   "source": [
    "# df['command_len'] = df['command'].str.len()"
   ]
  },
  {
   "cell_type": "code",
   "execution_count": 12,
   "id": "63dda2fb-bcad-4bb9-966b-5604dc51836a",
   "metadata": {
    "execution": {
     "iopub.execute_input": "2024-07-27T11:44:19.469131Z",
     "iopub.status.busy": "2024-07-27T11:44:19.468894Z",
     "iopub.status.idle": "2024-07-27T11:44:19.473541Z",
     "shell.execute_reply": "2024-07-27T11:44:19.472297Z",
     "shell.execute_reply.started": "2024-07-27T11:44:19.469103Z"
    }
   },
   "outputs": [],
   "source": [
    "# df['command_len'][5] "
   ]
  },
  {
   "cell_type": "code",
   "execution_count": 13,
   "id": "c9bc9c78-6955-4dc2-8aaf-2532e85a8f3b",
   "metadata": {
    "execution": {
     "iopub.execute_input": "2024-07-27T11:44:19.475363Z",
     "iopub.status.busy": "2024-07-27T11:44:19.474754Z",
     "iopub.status.idle": "2024-07-27T11:44:19.479541Z",
     "shell.execute_reply": "2024-07-27T11:44:19.478436Z",
     "shell.execute_reply.started": "2024-07-27T11:44:19.475324Z"
    }
   },
   "outputs": [],
   "source": [
    "# df['command'][3]"
   ]
  },
  {
   "cell_type": "code",
   "execution_count": 14,
   "id": "9d7303df-370f-445c-8218-0d310346667b",
   "metadata": {
    "execution": {
     "iopub.execute_input": "2024-07-27T11:44:19.481058Z",
     "iopub.status.busy": "2024-07-27T11:44:19.480728Z",
     "iopub.status.idle": "2024-07-27T11:44:19.488051Z",
     "shell.execute_reply": "2024-07-27T11:44:19.486672Z",
     "shell.execute_reply.started": "2024-07-27T11:44:19.481019Z"
    }
   },
   "outputs": [],
   "source": [
    "# # 设置数据缺失的情况\n",
    "# # 设置随机种子以便结果可重复\n",
    "# import numpy as np\n",
    "# np.random.seed(42)\n",
    "\n",
    "# # 定义缺失值的比例\n",
    "# missing_rate = 0.2\n",
    "\n",
    "# # 计算每列需要创建缺失值的数量\n",
    "# num_missing = int(missing_rate * len(df))\n",
    "\n",
    "# # 随机选择行进行缺失\n",
    "# for col in ['message', 'diff']:\n",
    "#     missing_indices = np.random.choice(df.index, num_missing, replace=False)\n",
    "    \n",
    "#     # 选择每个单元格的部分字符来替换，而不是全部替换成NaN\n",
    "#     for idx in missing_indices:\n",
    "#         if np.random.rand() > 0.5:\n",
    "#             # 保留前半部分\n",
    "#             try:\n",
    "#                 # print(df.loc[idx, col][:len(df.loc[idx, col])//2] + '...')\n",
    "#                 df.loc[idx, col] = df.loc[idx, col][:len(df.loc[idx, col])//2] + '...'\n",
    "#             except:\n",
    "#                 continue\n",
    "#         else:\n",
    "#             # 保留后半部分\n",
    "#             try:\n",
    "#                 # print('...' + df.loc[idx, col][len(df.loc[idx, col])//2:])\n",
    "#                 df.loc[idx, col] = '...' + df.loc[idx, col][len(df.loc[idx, col])//2:]\n",
    "#             except:\n",
    "#                 continue"
   ]
  },
  {
   "cell_type": "code",
   "execution_count": 15,
   "id": "118eda21-0906-4748-9af7-4bfeb04e8c29",
   "metadata": {
    "execution": {
     "iopub.execute_input": "2024-07-27T11:44:19.490365Z",
     "iopub.status.busy": "2024-07-27T11:44:19.489614Z",
     "iopub.status.idle": "2024-07-27T11:44:19.518729Z",
     "shell.execute_reply": "2024-07-27T11:44:19.517743Z",
     "shell.execute_reply.started": "2024-07-27T11:44:19.490310Z"
    }
   },
   "outputs": [],
   "source": [
    "df.dropna(inplace=True)"
   ]
  },
  {
   "cell_type": "code",
   "execution_count": 16,
   "id": "4d0cf66d-d451-425f-90f3-c8852d8d80e9",
   "metadata": {
    "execution": {
     "iopub.execute_input": "2024-07-27T11:44:19.519845Z",
     "iopub.status.busy": "2024-07-27T11:44:19.519624Z",
     "iopub.status.idle": "2024-07-27T11:44:19.938557Z",
     "shell.execute_reply": "2024-07-27T11:44:19.937510Z",
     "shell.execute_reply.started": "2024-07-27T11:44:19.519820Z"
    }
   },
   "outputs": [],
   "source": [
    "df_dataset = []\n",
    "for index, row in df.iterrows():\n",
    "  # df_dataset.append([row['message'],row['command'],row['label']])\n",
    "    \n",
    "    df_dataset.append([row['message'],row['command'],row['label']])\n",
    "    "
   ]
  },
  {
   "cell_type": "code",
   "execution_count": 17,
   "id": "7b104969-4a01-44b3-8b11-72188d0042e6",
   "metadata": {
    "execution": {
     "iopub.execute_input": "2024-07-27T11:44:19.939613Z",
     "iopub.status.busy": "2024-07-27T11:44:19.939434Z",
     "iopub.status.idle": "2024-07-27T11:44:19.945920Z",
     "shell.execute_reply": "2024-07-27T11:44:19.945002Z",
     "shell.execute_reply.started": "2024-07-27T11:44:19.939594Z"
    }
   },
   "outputs": [
    {
     "data": {
      "text/plain": [
       "['Merge pull request #46 from rufferson/saslx-tlsoff-tests\\n\\nSASL-External, TLS-Offload tests and fixups',\n",
       " 'package DJabberd::Form;# vim: sts=4 ai:use strict;use DJabberd::XMLElement;use overload \\'\"\"\\' => \\\\&as_xml;our @field_types = (    \\'boolean\\',    \\'fixed\\',    \\'hidden\\',    \\'jid-multi\\',    \\'jid-single\\',    \\'list-multi\\',    \\'list-single\\',    \\'text-multi\\',    \\'text-private\\',    \\'text-single\\');sub new {    my $class = shift;    my $self;    # Try to create from XMLElement tree    if(@_ && $_[0] && ref($_[0]) && UNIVERSAL::isa($_[0],\\'DJabberd::XMLElement\\') && $_[0]->element eq \\'{jabber:x:data}x\\' && $_[0]->children) {\\t$self = from_element($_[0]);    } else {\\t# Or from raw struct: new(\\'type\\',[{var=>\"var\",value=>[\"val\"]},...],[title=>\"title\",][instructions=>\"instructions\"]);\\tmy $type = shift;\\tmy $fields = shift;\\tmy %args = @_;\\tif($type && ref($fields) eq \\'ARRAY\\' && @{$fields}) {\\t    $self = { type => $type, fields => {}, order => []};\\t    foreach my$f(@{$fields}) {\\t\\tif(ref($f) eq \\'HASH\\' && $f->{var} && ref($f->{value}) eq \\'ARRAY\\') {\\t\\t    push(@{$self->{order}},$f->{var});\\t\\t    $self->{fields}->{$f->{var}} = $f;\\t\\t}\\t    }\\t    $self->{title} = $args{title} if($args{title});\\t    $self->{instructions} = $args{instructions} if(ref($args{instructions}) eq \\'ARRAY\\');\\t}    }    croak(\"Form may not be empty\") unless(ref($self) eq \\'HASH\\' && @{$self->{order}});    return bless $self, $class; }sub from_element {    my $x = shift;    my @inst;    my $title;    my %field;    my @order;    foreach my$el($x->children_elements) {\\tif($el->element_name eq \\'title\\') {\\t    $title = $el->innards_as_xml;\\t} elsif($el->element_name eq \\'instructions\\') {\\t    push(@inst,$el->innards_as_xml);\\t} elsif($el->element_name eq \\'field\\') {\\t    my $field = {\\t\\tvar => $el->attr(\\'{}var\\'),\\t\\ttype => $el->attr(\\'{}type\\'),\\t\\tlabel => $el->attr(\\'{}label\\'),\\t\\tvalue => [],\\t\\toption => []\\t    };\\t    if($field->{type} && !grep{$_ eq $field->{type}}@field_types) {\\t\\twarn \"Unsupported field type \".$field->{type};\\t\\treturn undef;\\t    }\\t    foreach my$c($el->children_elements) {\\t\\tif($c->element_name eq \\'desc\\') {\\t\\t    $field->{desc} = $c->innards_as_xml;\\t\\t} elsif($c->element_name eq \\'required\\') {\\t\\t    $field->{required} = 1;\\t\\t} elsif($c->element_name eq \\'value\\') {\\t\\t    push(@{$field->{value}},$c->innards_as_xml);\\t\\t} elsif($c->element_name eq \\'option\\') {\\t\\t    my $option = { value => $c->first_element->innards_as_xml };\\t\\t    $option->{label} = $c->attr(\\'{}label\\') if($c->attr(\\'{}label\\'));\\t\\t    push(@{$field->{option}},$option);\\t\\t}\\t    }\\t    push(@order,$field->{var});\\t    $field{$field->{var}} = $field;\\t}    }    return {type => $x->attr(\\'{}type\\'), title => $title, instructions => \\\\@inst, fields => \\\\%field, order => \\\\@order};}sub field {    my $self = shift;    my $name = shift;    return $self->{fields}->{$name};}sub value {    my $self = shift;    my $name = shift;    return ((exists $self->{fields}->{$name} && $self->{fields}->{$name}->{value}) ? \\t    @{$self->{fields}->{$name}->{value}}\\t    : ());}sub type {    my $self = shift;    return $self->{type};}sub form_type {    my $self = shift;    my $type = \\'\\';    if(exists $self->{fields}->{FORM_TYPE}) {\\tif($self->{fields}->{FORM_TYPE}->{type} && $self->{fields}->{FORM_TYPE}->{type} eq \\'hidden\\') {\\t    $type = $self->{fields}->{FORM_TYPE}->{value}->[0];\\t}    }    return $type;}sub as_xml {    my $self = shift;    my $xml = \\'<x xmlns=\"jabber:x:data\" type=\"\\'.$self->{type}.\\'\">\\';    $xml .= (\\'<title>\\'.$self->{title}.\\'</title>\\') if($self->{title});    foreach my$i(@{$self->{instructions}}) {\\t$xml .= \"<instructions>$i</instructions>\";    }    foreach my$v(@{$self->{order}}) {\\t$xml .= \\'<field var=\"\\'.$self->{fields}->{$v}->{var}.\\'\"\\'\\t\\t.($self->{fields}->{$v}->{type} ? \\' type=\"\\'.$self->{fields}->{$v}->{type}.\\'\"\\':\\'\\')\\t\\t.($self->{fields}->{$v}->{label} ? \\' label=\"\\'.$self->{fields}->{$v}->{label}.\\'\"\\':\\'\\')\\t\\t.\\'>\\';\\t$xml .= (\\'<desc>\\'.$self->{fields}->{$v}->{desc}.\\'</desc>\\') if($self->{fields}->{$v}->{desc});\\t$xml .= (\\'<required/>\\') if($self->{fields}->{$v}->{required});\\tforeach my$k(@{$self->{fields}->{$v}->{value}}) {\\t    $xml .= \"<value>$k</value>\";\\t}\\tforeach my$k(@{$self->{fields}->{$v}->{option}}) {\\t    $xml .= \\'<option\\'.($k->{label} ? \\' label=\"\\'.$k->{label}.\\'\"\\':\\'\\').\\'><value>\\'.$k->{value}.\\'</value></option>\\';\\t}\\t$xml .= \\'</field>\\';    }    return \"$xml</x>\";}sub as_element {    my $self = shift;    my @innards;    push(@innards,DJabberd::XMLElement->new(\\'\\',\\'title\\',{},[$self->{title}])) if($self->{title});    foreach my$i(@{$self->{instructions}}) {\\tpush(@innards,DJabberd::XMLElement->new(\\'\\',\\'instructions\\',{},[$i]));    }    foreach my$v(@{$self->{order}}) {\\tmy $attr = { var => $v };\\t$attr->{type} = $self->{fields}->{$v}->{type} if($self->{fields}->{$v}->{type});\\t$attr->{label} = $self->{fields}->{$v}->{label} if($self->{fields}->{$v}->{label});\\tmy $kids = [];\\tpush(@{$kids},DJabberd::XMLElement->new(\\'\\',\\'desc\\',{},[$self->{fields}->{$v}->{desc}])) if($self->{fields}->{$v}->{desc});\\tpush(@{$kids},DJabberd::XMLElement->new(\\'\\',\\'required\\',{},[])) if($self->{fields}->{$v}->{required});\\tforeach my$k(@{$self->{fields}->{$v}->{value}}) {\\t    push(@{$kids},DJabberd::XMLElement->new(\\'\\',\\'value\\',{},[$k]));\\t}\\tforeach my$k(@{$self->{fields}->{$v}->{option}}) {\\t    my $oa = {};\\t    $oa->{label} = $k->{label} if($k->{label});\\t    push(@{$kids},DJabberd::XMLElement->new(\\'\\',\\'option\\',$oa,[DJabberd::XMLElement->new(\\'\\',\\'value\\',{},[$k->{value}])]));\\t}\\tpush(@innards,DJabberd::XMLElement->new(\\'\\',\\'field\\',$attr,$kids));    }    return DJabberd::XMLElement->new(\\'\\',\\'x\\',{xmlns=>\\'jabber:x:data\\'},\\\\@innards);}1;',\n",
       " 0]"
      ]
     },
     "execution_count": 17,
     "metadata": {},
     "output_type": "execute_result"
    }
   ],
   "source": [
    "df_dataset[0]"
   ]
  },
  {
   "cell_type": "code",
   "execution_count": 18,
   "id": "7b77e6e8-8d9d-45f3-be04-94a8b7499213",
   "metadata": {
    "execution": {
     "iopub.execute_input": "2024-07-27T11:44:19.946775Z",
     "iopub.status.busy": "2024-07-27T11:44:19.946619Z",
     "iopub.status.idle": "2024-07-27T11:44:22.008651Z",
     "shell.execute_reply": "2024-07-27T11:44:22.007622Z",
     "shell.execute_reply.started": "2024-07-27T11:44:19.946758Z"
    }
   },
   "outputs": [
    {
     "name": "stderr",
     "output_type": "stream",
     "text": [
      "Some weights of the model checkpoint at /root/autodl-tmp/models/bert-base-cased were not used when initializing BertModel: ['cls.predictions.transform.dense.bias', 'cls.predictions.bias', 'cls.predictions.transform.LayerNorm.bias', 'cls.seq_relationship.bias', 'cls.seq_relationship.weight', 'cls.predictions.transform.LayerNorm.weight', 'cls.predictions.transform.dense.weight']\n",
      "- This IS expected if you are initializing BertModel from the checkpoint of a model trained on another task or with another architecture (e.g. initializing a BertForSequenceClassification model from a BertForPreTraining model).\n",
      "- This IS NOT expected if you are initializing BertModel from the checkpoint of a model that you expect to be exactly identical (initializing a BertForSequenceClassification model from a BertForSequenceClassification model).\n"
     ]
    }
   ],
   "source": [
    "# Load BERT and CodeBERT models and tokenizers\n",
    "bert_model = BertModel.from_pretrained('/root/autodl-tmp/models/bert-base-cased')\n",
    "bert_tokenizer = BertTokenizer.from_pretrained('/root/autodl-tmp/models/bert-base-cased')\n",
    "\n",
    "codebert_model = RobertaModel.from_pretrained('/root/autodl-tmp/models/codebert-base')\n",
    "codebert_tokenizer = RobertaTokenizer.from_pretrained('/root/autodl-tmp/models/codebert-base')"
   ]
  },
  {
   "cell_type": "code",
   "execution_count": 19,
   "id": "1549be02-6f6b-41e5-bd04-d3e164061eec",
   "metadata": {
    "execution": {
     "iopub.execute_input": "2024-07-27T11:44:22.009852Z",
     "iopub.status.busy": "2024-07-27T11:44:22.009650Z",
     "iopub.status.idle": "2024-07-27T12:15:26.738182Z",
     "shell.execute_reply": "2024-07-27T12:15:26.737130Z",
     "shell.execute_reply.started": "2024-07-27T11:44:22.009832Z"
    }
   },
   "outputs": [
    {
     "name": "stderr",
     "output_type": "stream",
     "text": [
      "/root/miniconda3/lib/python3.10/site-packages/transformers/optimization.py:411: FutureWarning: This implementation of AdamW is deprecated and will be removed in a future version. Use the PyTorch implementation torch.optim.AdamW instead, or set `no_deprecation_warning=True` to disable this warning\n",
      "  warnings.warn(\n"
     ]
    },
    {
     "name": "stdout",
     "output_type": "stream",
     "text": [
      "=============================train========================\n",
      "Epoch 1/10, Loss: 0.36701588106598276\n",
      "=============================eval========================\n",
      "Validation Accuracy: 0.8942208462332302\n",
      "Precision: 0.8904244031830238\n",
      "Recall: 0.8762870964405778\n",
      "F1-Score: 0.8825462531962088\n",
      "Epoch 1/10, Validation Accuracy: 0.8942208462332302\n",
      "当前best acc 0.8942208462332302\n",
      "=============================train========================\n",
      "Epoch 2/10, Loss: 0.1955345130114171\n",
      "=============================eval========================\n",
      "Validation Accuracy: 0.8957688338493293\n",
      "Precision: 0.8830565841403696\n",
      "Recall: 0.8944072529431382\n",
      "F1-Score: 0.8880135387488328\n",
      "Epoch 2/10, Validation Accuracy: 0.8957688338493293\n",
      "当前best acc 0.8957688338493293\n",
      "=============================train========================\n",
      "Epoch 3/10, Loss: 0.10026651868893177\n",
      "=============================eval========================\n",
      "Validation Accuracy: 0.8792569659442725\n",
      "Precision: 0.865469454694547\n",
      "Recall: 0.8884297568679036\n",
      "F1-Score: 0.8728199525036542\n",
      "Epoch 3/10, Validation Accuracy: 0.8792569659442725\n",
      "比best acc差记一次 0\n",
      "=============================train========================\n",
      "Epoch 4/10, Loss: 0.06325720924758174\n",
      "=============================eval========================\n",
      "Validation Accuracy: 0.9029927760577915\n",
      "Precision: 0.8908033445669992\n",
      "Recall: 0.9019639514223861\n",
      "F1-Score: 0.8957139994847869\n",
      "Epoch 4/10, Validation Accuracy: 0.9029927760577915\n",
      "当前best acc 0.9029927760577915\n",
      "=============================train========================\n",
      "Epoch 5/10, Loss: 0.0364853832895801\n",
      "=============================eval========================\n",
      "Validation Accuracy: 0.9091847265221878\n",
      "Precision: 0.8987083235652328\n",
      "Recall: 0.9051409487531971\n",
      "F1-Score: 0.9017232318203192\n",
      "Epoch 5/10, Validation Accuracy: 0.9091847265221878\n",
      "当前best acc 0.9091847265221878\n",
      "=============================train========================\n",
      "Epoch 6/10, Loss: 0.02495268330469991\n",
      "=============================eval========================\n",
      "Validation Accuracy: 0.9014447884416925\n",
      "Precision: 0.8896115248387976\n",
      "Recall: 0.8988107757613928\n",
      "F1-Score: 0.893767167575048\n",
      "Epoch 6/10, Validation Accuracy: 0.9014447884416925\n",
      "比best acc差记一次 0\n",
      "=============================train========================\n",
      "Epoch 7/10, Loss: 0.028641281886017795\n",
      "=============================eval========================\n",
      "Validation Accuracy: 0.913828689370485\n",
      "Precision: 0.9113777089783281\n",
      "Recall: 0.89898275659715\n",
      "F1-Score: 0.9045921052049755\n",
      "Epoch 7/10, Validation Accuracy: 0.913828689370485\n",
      "当前best acc 0.913828689370485\n",
      "=============================train========================\n",
      "Epoch 8/10, Loss: 0.032511309184182303\n",
      "=============================eval========================\n",
      "Validation Accuracy: 0.9060887512899897\n",
      "Precision: 0.897727233060713\n",
      "Recall: 0.897207751687562\n",
      "F1-Score: 0.8974662790697674\n",
      "Epoch 8/10, Validation Accuracy: 0.9060887512899897\n",
      "比best acc差记一次 0\n",
      "=============================train========================\n",
      "Epoch 9/10, Loss: 0.015776857152918867\n",
      "=============================eval========================\n",
      "Validation Accuracy: 0.8983488132094943\n",
      "Precision: 0.8854469060351413\n",
      "Recall: 0.8986864382652712\n",
      "F1-Score: 0.8910690150742844\n",
      "Epoch 9/10, Validation Accuracy: 0.8983488132094943\n",
      "比best acc差记一次 1\n",
      "=============================train========================\n",
      "Epoch 10/10, Loss: 0.019319658836590304\n",
      "=============================eval========================\n",
      "Validation Accuracy: 0.9029927760577915\n",
      "Precision: 0.8953563149454666\n",
      "Recall: 0.8922028769604944\n",
      "F1-Score: 0.8937357451599167\n",
      "Epoch 10/10, Validation Accuracy: 0.9029927760577915\n",
      "比best acc差记一次 2\n",
      "Early stopping\n",
      "best acc是 0.913828689370485\n"
     ]
    },
    {
     "data": {
      "image/png": "[encoded data removed]",
      "text/plain": [
       "<Figure size 640x480 with 1 Axes>"
      ]
     },
     "metadata": {},
     "output_type": "display_data"
    }
   ],
   "source": [
    "# Split the dataset\n",
    "# preprocesser = preprocesser.SentencePairDataset(train_data, bert_tokenizer, codebert_tokenizer)\n",
    "train_data, val_data = train_test_split(df_dataset, test_size=0.2, random_state=1)\n",
    "\n",
    "# Create Datasets and DataLoaders\n",
    "train_dataset = preprocesser.SentencePairDataset(train_data, bert_tokenizer, codebert_tokenizer)\n",
    "val_dataset = preprocesser.SentencePairDataset(val_data, bert_tokenizer, codebert_tokenizer)\n",
    "\n",
    "train_loader = DataLoader(train_dataset, batch_size=8, shuffle=True)\n",
    "val_loader = DataLoader(val_dataset, batch_size=8, shuffle=False)\n",
    "\n",
    "\n",
    "\n",
    "\n",
    "# # Initialize the model\n",
    "# model = em.CombinedModel(bert_model, codebert_model, bert_tokenizer, codebert_tokenizer)\n",
    "\n",
    "# # Train the model\n",
    "# model.trainer(train_loader, val_loader,num_epochs=10)\n",
    "# for batch in train_loader:\n",
    "#     print(batch)\n",
    "\n",
    "\n",
    "base_model1 = em.BaseModel(bert_model,bert_tokenizer)\n",
    "base_model2 = em.BaseModel(codebert_model,codebert_tokenizer)\n",
    "\n",
    "# Create stacking model\n",
    "stacking_model = em.StackingMoEModel(base_model1, base_model2)\n",
    "# Train the model\n",
    "stacking_model.trainer(train_loader, val_loader,num_epochs=10, patience=3)"
   ]
  },
  {
   "cell_type": "code",
   "execution_count": 21,
   "id": "0de47b49-8d23-4eca-9690-1cff4771159b",
   "metadata": {
    "execution": {
     "iopub.execute_input": "2024-07-27T13:40:30.272550Z",
     "iopub.status.busy": "2024-07-27T13:40:30.271151Z",
     "iopub.status.idle": "2024-07-27T13:40:30.280304Z",
     "shell.execute_reply": "2024-07-27T13:40:30.278643Z",
     "shell.execute_reply.started": "2024-07-27T13:40:30.272454Z"
    }
   },
   "outputs": [],
   "source": [
    "# trainer.model.save_pretrained(nb_fname)"
   ]
  },
  {
   "cell_type": "code",
   "execution_count": null,
   "id": "b35729cd-f338-4b5f-93ad-088419a0c2b4",
   "metadata": {},
   "outputs": [],
   "source": []
  },
  {
   "cell_type": "code",
   "execution_count": null,
   "id": "b1322c78-1c26-4b9a-86ad-244cc38906b4",
   "metadata": {},
   "outputs": [],
   "source": []
  },
  {
   "cell_type": "code",
   "execution_count": null,
   "id": "5f89bbee-69b9-4135-aca9-01baa169e9e7",
   "metadata": {},
   "outputs": [],
   "source": []
  }
 ],
 "metadata": {
  "kernelspec": {
   "display_name": "Python 3 (ipykernel)",
   "language": "python",
   "name": "python3"
  },
  "language_info": {
   "codemirror_mode": {
    "name": "ipython",
    "version": 3
   },
   "file_extension": ".py",
   "mimetype": "text/x-python",
   "name": "python",
   "nbconvert_exporter": "python",
   "pygments_lexer": "ipython3",
   "version": "3.10.8"
  }
 },
 "nbformat": 4,
 "nbformat_minor": 5
}
