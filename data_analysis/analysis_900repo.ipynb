{
 "cells": [
  {
   "cell_type": "code",
   "execution_count": 8,
   "metadata": {},
   "outputs": [],
   "source": [
    "import pandas as pd\n",
    "import matplotlib.pyplot as plt"
   ]
  },
  {
   "cell_type": "code",
   "execution_count": 9,
   "metadata": {},
   "outputs": [
    {
     "data": {
      "text/html": [
       "<div>\n",
       "<style scoped>\n",
       "    .dataframe tbody tr th:only-of-type {\n",
       "        vertical-align: middle;\n",
       "    }\n",
       "\n",
       "    .dataframe tbody tr th {\n",
       "        vertical-align: top;\n",
       "    }\n",
       "\n",
       "    .dataframe thead th {\n",
       "        text-align: right;\n",
       "    }\n",
       "</style>\n",
       "<table border=\"1\" class=\"dataframe\">\n",
       "  <thead>\n",
       "    <tr style=\"text-align: right;\">\n",
       "      <th></th>\n",
       "      <th>Unnamed: 0</th>\n",
       "      <th>label</th>\n",
       "      <th>message</th>\n",
       "      <th>diff</th>\n",
       "    </tr>\n",
       "  </thead>\n",
       "  <tbody>\n",
       "    <tr>\n",
       "      <th>0</th>\n",
       "      <td>0</td>\n",
       "      <td>negative</td>\n",
       "      <td>Merge pull request #46 from rufferson/saslx-tl...</td>\n",
       "      <td>diff --git a/lib/DJabberd.pm b/lib/DJabberd.pm...</td>\n",
       "    </tr>\n",
       "    <tr>\n",
       "      <th>1</th>\n",
       "      <td>1</td>\n",
       "      <td>positive</td>\n",
       "      <td>Fix leaks in kadmin server stubs [CVE-2015-863...</td>\n",
       "      <td>diff --git a/src/kadmin/server/server_stubs.c ...</td>\n",
       "    </tr>\n",
       "    <tr>\n",
       "      <th>2</th>\n",
       "      <td>2</td>\n",
       "      <td>positive</td>\n",
       "      <td>Validate authorization request on approval\\n\\n...</td>\n",
       "      <td>diff --git a/spring-security-oauth2/src/main/j...</td>\n",
       "    </tr>\n",
       "    <tr>\n",
       "      <th>3</th>\n",
       "      <td>3</td>\n",
       "      <td>positive</td>\n",
       "      <td>Release 2.72.4+171110</td>\n",
       "      <td>diff --git a/application/config/version.php b/...</td>\n",
       "    </tr>\n",
       "    <tr>\n",
       "      <th>4</th>\n",
       "      <td>4</td>\n",
       "      <td>negative</td>\n",
       "      <td>Fixing compiler warnings.</td>\n",
       "      <td>diff --git a/src/main.c b/src/main.c\\nindex 50...</td>\n",
       "    </tr>\n",
       "    <tr>\n",
       "      <th>...</th>\n",
       "      <td>...</td>\n",
       "      <td>...</td>\n",
       "      <td>...</td>\n",
       "      <td>...</td>\n",
       "    </tr>\n",
       "    <tr>\n",
       "      <th>10107</th>\n",
       "      <td>10107</td>\n",
       "      <td>negative</td>\n",
       "      <td>les: remove useless protocol defines (#22115)\\...</td>\n",
       "      <td>diff --git a/les/benchmark.go b/les/benchmark....</td>\n",
       "    </tr>\n",
       "    <tr>\n",
       "      <th>10108</th>\n",
       "      <td>10108</td>\n",
       "      <td>positive</td>\n",
       "      <td>Merge pull request #2067 from realm/tg-swift-l...</td>\n",
       "      <td>diff --git a/CHANGELOG.md b/CHANGELOG.md\\ninde...</td>\n",
       "    </tr>\n",
       "    <tr>\n",
       "      <th>10109</th>\n",
       "      <td>10109</td>\n",
       "      <td>negative</td>\n",
       "      <td>[fix] 新規アカウント作成ページの翻訳を修正</td>\n",
       "      <td>diff --git a/app/locales/ja_JP/LC_MESSAGES/mes...</td>\n",
       "    </tr>\n",
       "    <tr>\n",
       "      <th>10110</th>\n",
       "      <td>10110</td>\n",
       "      <td>negative</td>\n",
       "      <td>Merge branch 'hotfixes'</td>\n",
       "      <td>diff --git a/CHANGELOG.txt b/CHANGELOG.txt\\nin...</td>\n",
       "    </tr>\n",
       "    <tr>\n",
       "      <th>10111</th>\n",
       "      <td>10111</td>\n",
       "      <td>positive</td>\n",
       "      <td>HTTPCLIENT-1803: Improved handling of malforme...</td>\n",
       "      <td>diff --git a/httpclient/src/main/java/org/apac...</td>\n",
       "    </tr>\n",
       "  </tbody>\n",
       "</table>\n",
       "<p>10112 rows × 4 columns</p>\n",
       "</div>"
      ],
      "text/plain": [
       "       Unnamed: 0     label  \\\n",
       "0               0  negative   \n",
       "1               1  positive   \n",
       "2               2  positive   \n",
       "3               3  positive   \n",
       "4               4  negative   \n",
       "...           ...       ...   \n",
       "10107       10107  negative   \n",
       "10108       10108  positive   \n",
       "10109       10109  negative   \n",
       "10110       10110  negative   \n",
       "10111       10111  positive   \n",
       "\n",
       "                                                 message  \\\n",
       "0      Merge pull request #46 from rufferson/saslx-tl...   \n",
       "1      Fix leaks in kadmin server stubs [CVE-2015-863...   \n",
       "2      Validate authorization request on approval\\n\\n...   \n",
       "3                                  Release 2.72.4+171110   \n",
       "4                              Fixing compiler warnings.   \n",
       "...                                                  ...   \n",
       "10107  les: remove useless protocol defines (#22115)\\...   \n",
       "10108  Merge pull request #2067 from realm/tg-swift-l...   \n",
       "10109                           [fix] 新規アカウント作成ページの翻訳を修正   \n",
       "10110                            Merge branch 'hotfixes'   \n",
       "10111  HTTPCLIENT-1803: Improved handling of malforme...   \n",
       "\n",
       "                                                    diff  \n",
       "0      diff --git a/lib/DJabberd.pm b/lib/DJabberd.pm...  \n",
       "1      diff --git a/src/kadmin/server/server_stubs.c ...  \n",
       "2      diff --git a/spring-security-oauth2/src/main/j...  \n",
       "3      diff --git a/application/config/version.php b/...  \n",
       "4      diff --git a/src/main.c b/src/main.c\\nindex 50...  \n",
       "...                                                  ...  \n",
       "10107  diff --git a/les/benchmark.go b/les/benchmark....  \n",
       "10108  diff --git a/CHANGELOG.md b/CHANGELOG.md\\ninde...  \n",
       "10109  diff --git a/app/locales/ja_JP/LC_MESSAGES/mes...  \n",
       "10110  diff --git a/CHANGELOG.txt b/CHANGELOG.txt\\nin...  \n",
       "10111  diff --git a/httpclient/src/main/java/org/apac...  \n",
       "\n",
       "[10112 rows x 4 columns]"
      ]
     },
     "execution_count": 9,
     "metadata": {},
     "output_type": "execute_result"
    }
   ],
   "source": [
    "df = pd.read_csv('dataset.csv')\n",
    "df"
   ]
  },
  {
   "cell_type": "code",
   "execution_count": 10,
   "metadata": {},
   "outputs": [
    {
     "data": {
      "text/plain": [
       "message\n",
       "[maven-release-plugin] prepare for next development iteration                                                                                                                                                29\n",
       "Update README.md                                                                                                                                                                                             27\n",
       "...                                                                                                                                                                                                          22\n",
       "CAMEL-9309: Make it easier to turn on|off java transport over http                                                                                                                                           17\n",
       "[tx-robot] updated from transifex                                                                                                                                                                            17\n",
       "                                                                                                                                                                                                             ..\n",
       "properly initialize data structure for SOAP parsing in ParseNameValue()\\n\\ntopelt field was not properly initialized.\\n\\nshould fix #268                                                                      1\n",
       "Merge pull request #499 from lzap/secret_token\\n\\n850745 - secret_token is not generated properly (CVE-2012-3503)                                                                                             1\n",
       "Update README for next dev cycle.                                                                                                                                                                             1\n",
       "Remove ZfcBase dependency. Allow ZF3 requirement                                                                                                                                                              1\n",
       "HTTPCLIENT-1803: Improved handling of malformed paths by URIBuilder\\n\\ngit-svn-id: https://svn.apache.org/repos/asf/httpcomponents/httpclient/branches/4.5.x@1779735 13f79535-47bb-0310-9956-ffa450edef68     1\n",
       "Name: count, Length: 9289, dtype: int64"
      ]
     },
     "execution_count": 10,
     "metadata": {},
     "output_type": "execute_result"
    }
   ],
   "source": [
    "value_numbers =  df['message'].value_counts()\n",
    "value_numbers"
   ]
  },
  {
   "cell_type": "code",
   "execution_count": 11,
   "metadata": {},
   "outputs": [],
   "source": [
    "\n",
    "# 过滤出现次数大于 1 的值\n",
    "greater_than_one = value_numbers[value_numbers > 1]\n",
    "\n",
    "# 输出出现次数大于 1 的值的数量\n",
    "count_greater_than_one = len(greater_than_one)"
   ]
  },
  {
   "cell_type": "code",
   "execution_count": 12,
   "metadata": {},
   "outputs": [],
   "source": [
    "greater_than_1_percentage = count_greater_than_one / len(df)  "
   ]
  },
  {
   "cell_type": "code",
   "execution_count": 15,
   "metadata": {},
   "outputs": [
    {
     "data": {
      "image/png": "[encoded data removed]",
      "text/plain": [
       "<Figure size 800x600 with 1 Axes>"
      ]
     },
     "metadata": {},
     "output_type": "display_data"
    }
   ],
   "source": [
    "import seaborn as sns\n",
    "# 准备绘制饼图的数据\n",
    "labels = ['Repeated', 'Unique']  # 精简的标签\n",
    "sizes = [greater_than_1_percentage, 1-greater_than_1_percentage]\n",
    "\n",
    "colors = ['#ff9999', '#66b3ff']\n",
    "\n",
    "# 绘制饼图\n",
    "plt.figure(figsize=(8, 6))\n",
    "plt.pie(sizes, autopct='%1.1f%%', startangle=90, colors=sns.color_palette('Set2'), textprops={'fontsize': 11})\n",
    "\n",
    "# 确保饼图为圆形\n",
    "plt.axis('equal')\n",
    "\n",
    "# 添加图例\n",
    "plt.legend(labels, title=\"Message Type\", loc=\"upper right\")\n",
    "\n",
    "# 确保饼图为圆形\n",
    "plt.axis('equal')\n",
    "\n",
    "# 添加标题\n",
    "plt.title('Percentage of Repeated vs Unique Messages in 900Repo',fontsize = 15)\n",
    "\n",
    "# 展示图表\n",
    "plt.show()"
   ]
  },
  {
   "cell_type": "code",
   "execution_count": null,
   "metadata": {},
   "outputs": [],
   "source": []
  }
 ],
 "metadata": {
  "kernelspec": {
   "display_name": "Python 3",
   "language": "python",
   "name": "python3"
  },
  "language_info": {
   "codemirror_mode": {
    "name": "ipython",
    "version": 3
   },
   "file_extension": ".py",
   "mimetype": "text/x-python",
   "name": "python",
   "nbconvert_exporter": "python",
   "pygments_lexer": "ipython3",
   "version": "3.9.10"
  }
 },
 "nbformat": 4,
 "nbformat_minor": 2
}
