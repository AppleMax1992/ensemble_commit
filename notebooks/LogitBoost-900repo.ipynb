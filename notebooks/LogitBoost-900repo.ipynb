{
 "cells": [
  {
   "cell_type": "code",
   "execution_count": 15,
   "id": "e1e51fd6-2459-4552-b63b-1da158aa1de7",
   "metadata": {
    "execution": {
     "iopub.execute_input": "2024-10-28T08:34:38.623533Z",
     "iopub.status.busy": "2024-10-28T08:34:38.622441Z",
     "iopub.status.idle": "2024-10-28T08:34:42.333219Z",
     "shell.execute_reply": "2024-10-28T08:34:42.331987Z",
     "shell.execute_reply.started": "2024-10-28T08:34:38.623469Z"
    }
   },
   "outputs": [
    {
     "name": "stderr",
     "output_type": "stream",
     "text": [
      "/tmp/ipykernel_3023/712239689.py:10: FutureWarning: Downcasting behavior in `replace` is deprecated and will be removed in a future version. To retain the old behavior, explicitly call `result.infer_objects(copy=False)`. To opt-in to the future behavior, set `pd.set_option('future.no_silent_downcasting', True)`\n",
      "  df = df.replace({\"label\": label2id})\n"
     ]
    }
   ],
   "source": [
    "import pandas as pd\n",
    "from sklearn.model_selection import train_test_split\n",
    "from sklearn.feature_extraction.text import TfidfVectorizer\n",
    "from xgboost import XGBClassifier\n",
    "from sklearn.metrics import classification_report, accuracy_score\n",
    "\n",
    "label2id = {'negative':0,'positive':1}\n",
    "\n",
    "df = pd.read_csv('/root/autodl-tmp/IPCK/dataset/dataset.csv')\n",
    "df = df.replace({\"label\": label2id})\n",
    "df.dropna(inplace=True)"
   ]
  },
  {
   "cell_type": "code",
   "execution_count": 19,
   "id": "03411a62",
   "metadata": {
    "execution": {
     "iopub.execute_input": "2024-10-28T08:44:22.647701Z",
     "iopub.status.busy": "2024-10-28T08:44:22.646782Z",
     "iopub.status.idle": "2024-10-28T08:44:22.666741Z",
     "shell.execute_reply": "2024-10-28T08:44:22.665971Z",
     "shell.execute_reply.started": "2024-10-28T08:44:22.647621Z"
    }
   },
   "outputs": [],
   "source": [
    "train, test = train_test_split(df, test_size=0.2, random_state=42)\n",
    "train, val = train_test_split(train, test_size=0.1, random_state=42)"
   ]
  },
  {
   "cell_type": "code",
   "execution_count": 20,
   "id": "af4b32ad-8a7e-4966-a994-0c47f779e542",
   "metadata": {
    "execution": {
     "iopub.execute_input": "2024-10-28T08:44:22.860628Z",
     "iopub.status.busy": "2024-10-28T08:44:22.859840Z",
     "iopub.status.idle": "2024-10-28T08:44:22.877444Z",
     "shell.execute_reply": "2024-10-28T08:44:22.876787Z",
     "shell.execute_reply.started": "2024-10-28T08:44:22.860565Z"
    }
   },
   "outputs": [
    {
     "data": {
      "text/html": [
       "<div>\n",
       "<style scoped>\n",
       "    .dataframe tbody tr th:only-of-type {\n",
       "        vertical-align: middle;\n",
       "    }\n",
       "\n",
       "    .dataframe tbody tr th {\n",
       "        vertical-align: top;\n",
       "    }\n",
       "\n",
       "    .dataframe thead th {\n",
       "        text-align: right;\n",
       "    }\n",
       "</style>\n",
       "<table border=\"1\" class=\"dataframe\">\n",
       "  <thead>\n",
       "    <tr style=\"text-align: right;\">\n",
       "      <th></th>\n",
       "      <th>Unnamed: 0</th>\n",
       "      <th>label</th>\n",
       "      <th>message</th>\n",
       "      <th>diff</th>\n",
       "    </tr>\n",
       "  </thead>\n",
       "  <tbody>\n",
       "    <tr>\n",
       "      <th>1420</th>\n",
       "      <td>1420</td>\n",
       "      <td>0</td>\n",
       "      <td>Changes to ensure record data can wrap only on...</td>\n",
       "      <td>diff --git a/libevt/libevt_io_handle.c b/libev...</td>\n",
       "    </tr>\n",
       "    <tr>\n",
       "      <th>456</th>\n",
       "      <td>456</td>\n",
       "      <td>1</td>\n",
       "      <td>Fix carbons</td>\n",
       "      <td>diff --git a/slixmpp/plugins/xep_0280/carbons....</td>\n",
       "    </tr>\n",
       "    <tr>\n",
       "      <th>8981</th>\n",
       "      <td>8981</td>\n",
       "      <td>0</td>\n",
       "      <td>new setting page layout</td>\n",
       "      <td>diff --git a/includes/view/User_view.php b/inc...</td>\n",
       "    </tr>\n",
       "    <tr>\n",
       "      <th>6970</th>\n",
       "      <td>6970</td>\n",
       "      <td>1</td>\n",
       "      <td>Disable logging during brokerfactory de-serial...</td>\n",
       "      <td>diff --git a/openjpa-kernel/src/main/java/org/...</td>\n",
       "    </tr>\n",
       "    <tr>\n",
       "      <th>6959</th>\n",
       "      <td>6959</td>\n",
       "      <td>1</td>\n",
       "      <td>Fix acl_file being ignore for default listener...</td>\n",
       "      <td>diff --git a/ChangeLog.txt b/ChangeLog.txt\\nin...</td>\n",
       "    </tr>\n",
       "    <tr>\n",
       "      <th>...</th>\n",
       "      <td>...</td>\n",
       "      <td>...</td>\n",
       "      <td>...</td>\n",
       "      <td>...</td>\n",
       "    </tr>\n",
       "    <tr>\n",
       "      <th>1382</th>\n",
       "      <td>1382</td>\n",
       "      <td>0</td>\n",
       "      <td>Merge pull request #3332 from square/jakew/ded...</td>\n",
       "      <td>diff --git a/retrofit-adapters/guava/src/main/...</td>\n",
       "    </tr>\n",
       "    <tr>\n",
       "      <th>4581</th>\n",
       "      <td>4581</td>\n",
       "      <td>1</td>\n",
       "      <td>mercurial: separate command options and positi...</td>\n",
       "      <td>diff --git a/lib/redmine/scm/adapters/mercuria...</td>\n",
       "    </tr>\n",
       "    <tr>\n",
       "      <th>2738</th>\n",
       "      <td>2738</td>\n",
       "      <td>0</td>\n",
       "      <td>Land #14680, winrm_script_exec: print command ...</td>\n",
       "      <td>diff --git a/modules/exploits/windows/winrm/wi...</td>\n",
       "    </tr>\n",
       "    <tr>\n",
       "      <th>5074</th>\n",
       "      <td>5074</td>\n",
       "      <td>0</td>\n",
       "      <td>Merge pull request #363 from mateusz/uploadfie...</td>\n",
       "      <td>diff --git a/forms/UploadField.php b/forms/Upl...</td>\n",
       "    </tr>\n",
       "    <tr>\n",
       "      <th>2807</th>\n",
       "      <td>2807</td>\n",
       "      <td>0</td>\n",
       "      <td>Fix msecs_left in mgos_get_timer_info()\\n\\nUse...</td>\n",
       "      <td>diff --git a/src/mgos_timers.c b/src/mgos_time...</td>\n",
       "    </tr>\n",
       "  </tbody>\n",
       "</table>\n",
       "<p>7245 rows × 4 columns</p>\n",
       "</div>"
      ],
      "text/plain": [
       "      Unnamed: 0  label                                            message  \\\n",
       "1420        1420      0  Changes to ensure record data can wrap only on...   \n",
       "456          456      1                                        Fix carbons   \n",
       "8981        8981      0                            new setting page layout   \n",
       "6970        6970      1  Disable logging during brokerfactory de-serial...   \n",
       "6959        6959      1  Fix acl_file being ignore for default listener...   \n",
       "...          ...    ...                                                ...   \n",
       "1382        1382      0  Merge pull request #3332 from square/jakew/ded...   \n",
       "4581        4581      1  mercurial: separate command options and positi...   \n",
       "2738        2738      0  Land #14680, winrm_script_exec: print command ...   \n",
       "5074        5074      0  Merge pull request #363 from mateusz/uploadfie...   \n",
       "2807        2807      0  Fix msecs_left in mgos_get_timer_info()\\n\\nUse...   \n",
       "\n",
       "                                                   diff  \n",
       "1420  diff --git a/libevt/libevt_io_handle.c b/libev...  \n",
       "456   diff --git a/slixmpp/plugins/xep_0280/carbons....  \n",
       "8981  diff --git a/includes/view/User_view.php b/inc...  \n",
       "6970  diff --git a/openjpa-kernel/src/main/java/org/...  \n",
       "6959  diff --git a/ChangeLog.txt b/ChangeLog.txt\\nin...  \n",
       "...                                                 ...  \n",
       "1382  diff --git a/retrofit-adapters/guava/src/main/...  \n",
       "4581  diff --git a/lib/redmine/scm/adapters/mercuria...  \n",
       "2738  diff --git a/modules/exploits/windows/winrm/wi...  \n",
       "5074  diff --git a/forms/UploadField.php b/forms/Upl...  \n",
       "2807  diff --git a/src/mgos_timers.c b/src/mgos_time...  \n",
       "\n",
       "[7245 rows x 4 columns]"
      ]
     },
     "execution_count": 20,
     "metadata": {},
     "output_type": "execute_result"
    }
   ],
   "source": [
    "train"
   ]
  },
  {
   "cell_type": "code",
   "execution_count": 21,
   "id": "66ddf628-40ef-458c-a711-513814332488",
   "metadata": {
    "execution": {
     "iopub.execute_input": "2024-10-28T08:44:23.322902Z",
     "iopub.status.busy": "2024-10-28T08:44:23.321970Z",
     "iopub.status.idle": "2024-10-28T08:45:11.928925Z",
     "shell.execute_reply": "2024-10-28T08:45:11.927521Z",
     "shell.execute_reply.started": "2024-10-28T08:44:23.322825Z"
    }
   },
   "outputs": [
    {
     "name": "stdout",
     "output_type": "stream",
     "text": [
      "Accuracy: 0.8306010928961749\n",
      "Classification Report:\n",
      "               precision    recall  f1-score   support\n",
      "\n",
      "           0     0.8430    0.9016    0.8713      1280\n",
      "           1     0.8043    0.7067    0.7524       733\n",
      "\n",
      "    accuracy                         0.8306      2013\n",
      "   macro avg     0.8236    0.8041    0.8118      2013\n",
      "weighted avg     0.8289    0.8306    0.8280      2013\n",
      "\n"
     ]
    }
   ],
   "source": [
    "# 假设你有一个DataFrame df，其中包含'commit_message'和'label'列\n",
    "# df = pd.DataFrame({'commit_message': [...], 'label': [...]})\n",
    "\n",
    "# 1. 数据预处理和特征提取\n",
    "vectorizer = TfidfVectorizer()\n",
    "X_train = vectorizer.fit_transform(train['diff'])\n",
    "y_train = train['label']\n",
    "\n",
    "# 3. 训练XGBoost模型\n",
    "clf = XGBClassifier()\n",
    "clf.fit(X_train, y_train)\n",
    "\n",
    "# 4. 评估模型\n",
    "y_pred = clf.predict(vectorizer.transform(test['diff']))\n",
    "print(\"Accuracy:\", accuracy_score(test['label'], y_pred))\n",
    "print(\"Classification Report:\\n\", classification_report(test['label'], y_pred,digits=4))\n"
   ]
  },
  {
   "cell_type": "code",
   "execution_count": null,
   "id": "d2a3632e",
   "metadata": {},
   "outputs": [],
   "source": []
  }
 ],
 "metadata": {
  "kernelspec": {
   "display_name": "Python 3 (ipykernel)",
   "language": "python",
   "name": "python3"
  },
  "language_info": {
   "codemirror_mode": {
    "name": "ipython",
    "version": 3
   },
   "file_extension": ".py",
   "mimetype": "text/x-python",
   "name": "python",
   "nbconvert_exporter": "python",
   "pygments_lexer": "ipython3",
   "version": "3.10.8"
  }
 },
 "nbformat": 4,
 "nbformat_minor": 5
}
